{
 "cells": [
  {
   "cell_type": "code",
   "execution_count": 1,
   "id": "bc857d94",
   "metadata": {},
   "outputs": [],
   "source": [
    "import pyomo.environ as pyo\n",
    "\n",
    "def model():\n",
    "    m = pyo.ConcreteModel()\n",
    "    m.x1 = pyo.Var(within=pyo.NonNegativeReals)\n",
    "    m.x2 = pyo.Var(within=pyo.NonNegativeReals)\n",
    "    m.cost = pyo.Objective(rule=10*m.x1 + 7*m.x2, sense = pyo.maximize)\n",
    "    m.c1 = pyo.Constraint(rule=m.x1 + 2 * m.x2 <= 10)\n",
    "    m.c2 = pyo.Constraint(rule=3 * m.x1 + 4*m.x2 <= 40)\n",
    "    m.dual = pyo.Suffix(direction=pyo.Suffix.IMPORT)\n",
    "    m.rc = pyo.Suffix(direction=pyo.Suffix.IMPORT)\n",
    "    return m"
   ]
  },
  {
   "cell_type": "markdown",
   "id": "e61a6f63",
   "metadata": {},
   "source": [
    "max z = Cx\n",
    "s.t.\n",
    " Ax <= B\n",
    "\n",
    "Dual:\n",
    "min w = π^T b\n",
    "s.t\n",
    "A^T π >= c\n",
    "\n",
    "Reduced costs: coefficients of z\n",
    "Relationship between reduced costs and optimal solution of the problem π\n",
    "Lemma: When the simplex algorithms finishes, we have: ĉj = cj - Σ π Aij <= 0, π = cB^-1"
   ]
  },
  {
   "cell_type": "code",
   "execution_count": 2,
   "id": "ede58f3a",
   "metadata": {},
   "outputs": [],
   "source": [
    "m = model()\n",
    "solver = pyo.SolverFactory(\"cbc\")\n",
    "solver.solve(m)\n",
    "objective = pyo.value(m.cost)"
   ]
  },
  {
   "cell_type": "markdown",
   "id": "9ca0057d",
   "metadata": {},
   "source": [
    "A **shadow price** value is associated with each constraint of the model.\n",
    "It is the instantaneous change in the objective value of the optimal \n",
    "solution obtained by changing the right hand side constraint by one unit."
   ]
  },
  {
   "cell_type": "code",
   "execution_count": 3,
   "id": "4c961c77",
   "metadata": {},
   "outputs": [],
   "source": [
    "shadow_price_c1 = m.dual[m.c1]"
   ]
  },
  {
   "cell_type": "markdown",
   "id": "025b2fcb",
   "metadata": {},
   "source": [
    "A **reduce cost** value is associated with each variable of the model.\n",
    "It is the maount by which an objective function parameter would have\n",
    "to improve before it would be possible for a corresponding variable\n",
    "to assume a positive value in the optimal solution.\n",
    "\n",
    "x2 is outside the basis, its value is 0. Its reduce cost is negative."
   ]
  },
  {
   "cell_type": "code",
   "execution_count": 4,
   "id": "a87b8c70",
   "metadata": {},
   "outputs": [],
   "source": [
    "assert pyo.value(m.x2) == 0\n",
    "reduce_cost_x2 = m.rc[m.x2]\n",
    "assert reduce_cost_x2 <= 0"
   ]
  },
  {
   "cell_type": "markdown",
   "id": "5bcd64ea",
   "metadata": {},
   "source": [
    "x1 is in the basis so its value is different from 0 and its reduce cost equals 0"
   ]
  },
  {
   "cell_type": "code",
   "execution_count": 5,
   "id": "ee637735",
   "metadata": {},
   "outputs": [],
   "source": [
    "assert pyo.value(m.x1) != 0\n",
    "assert m.rc[m.x1] == 0"
   ]
  },
  {
   "cell_type": "markdown",
   "id": "a6eae51d",
   "metadata": {},
   "source": [
    "Check the objective increases when we add the shadow price to the right hand constraint of c1"
   ]
  },
  {
   "cell_type": "code",
   "execution_count": 6,
   "id": "13f3e4ca",
   "metadata": {},
   "outputs": [],
   "source": [
    "increase_in_c1 = 2\n",
    "m = model()\n",
    "m.del_component(m.c1)\n",
    "m.c1 = pyo.Constraint(rule=m.x1 + 2 * m.x2 <= 10 + increase_in_c1)\n",
    "solver.solve(m)\n",
    "assert pyo.value(m.cost) == objective + increase_in_c1 * shadow_price_c1"
   ]
  },
  {
   "cell_type": "markdown",
   "id": "e5546495",
   "metadata": {},
   "source": [
    "Check that the objective decrease by the reduce cost of x2\n",
    "The reduce cost of a decision variable (i.e. value -13 for variable x2)\n",
    "is equal to the shadow prive of the non-negativity constraint of the variable\n",
    "(m.x2 >= 0)"
   ]
  },
  {
   "cell_type": "code",
   "execution_count": 7,
   "id": "880d3dac",
   "metadata": {},
   "outputs": [],
   "source": [
    "m = model()\n",
    "increase_in_x2 = 1\n",
    "m.within_x2 = pyo.Constraint(rule=m.x2 >= increase_in_x2)\n",
    "solver.solve(m)\n",
    "assert pyo.value(m.cost) < objective\n",
    "assert pyo.value(m.cost) == objective + increase_in_x2 * reduce_cost_x2"
   ]
  },
  {
   "cell_type": "markdown",
   "id": "cc6ca7e2",
   "metadata": {},
   "source": [
    "We can check that the objective of the dual is equal to the objective of the primal"
   ]
  },
  {
   "cell_type": "code",
   "execution_count": 8,
   "id": "42991460",
   "metadata": {},
   "outputs": [],
   "source": [
    "m_dual = pyo.ConcreteModel()\n",
    "m_dual.π1 = pyo.Var(within=pyo.NonNegativeReals)\n",
    "m_dual.π2 = pyo.Var(within=pyo.NonNegativeReals)\n",
    "m_dual.cost = pyo.Objective(rule=10*m_dual.π1 + 40*m_dual.π2, sense = pyo.minimize)\n",
    "m_dual.c1 = pyo.Constraint(rule=m_dual.π1 + 3 * m_dual.π2 >= 10)\n",
    "m_dual.c2 = pyo.Constraint(rule=2 * m_dual.π1 + 4*m_dual.π2 >= 7)\n",
    "solver.solve(m_dual)\n",
    "\n",
    "assert pyo.value(m_dual.cost) == objective"
   ]
  }
 ],
 "metadata": {
  "kernelspec": {
   "display_name": "Python 3 (ipykernel)",
   "language": "python",
   "name": "python3"
  },
  "language_info": {
   "codemirror_mode": {
    "name": "ipython",
    "version": 3
   },
   "file_extension": ".py",
   "mimetype": "text/x-python",
   "name": "python",
   "nbconvert_exporter": "python",
   "pygments_lexer": "ipython3",
   "version": "3.10.4"
  }
 },
 "nbformat": 4,
 "nbformat_minor": 5
}
