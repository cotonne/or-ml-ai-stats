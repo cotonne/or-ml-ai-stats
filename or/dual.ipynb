{
 "cells": [
  {
   "cell_type": "code",
   "execution_count": null,
   "id": "bc857d94",
   "metadata": {},
   "outputs": [],
   "source": [
    "import pyomo.environ as pyo\n",
    "\n",
    "def model():\n",
    "    m = pyo.ConcreteModel()\n",
    "    m.x1 = pyo.Var(within=pyo.NonNegativeReals)\n",
    "    m.x2 = pyo.Var(within=pyo.NonNegativeReals)\n",
    "    m.cost = pyo.Objective(expr=10*m.x1 + 7*m.x2, sense = pyo.maximize)\n",
    "    m.c1 = pyo.Constraint(expr=m.x1 + 2 * m.x2 <= 10)\n",
    "    m.c2 = pyo.Constraint(expr=3 * m.x1 + 4*m.x2 <= 40)\n",
    "    m.dual = pyo.Suffix(direction=pyo.Suffix.IMPORT)\n",
    "    m.rc = pyo.Suffix(direction=pyo.Suffix.IMPORT)\n",
    "    return m"
   ]
  },
  {
   "cell_type": "markdown",
   "id": "e61a6f63",
   "metadata": {},
   "source": [
    "Example PL:\n",
    "\n",
    "$$\n",
    "\\max z = 10 x_1 + 7 x_2 \\\\\n",
    "s.t. \\\\\n",
    "x_1 + 2 x_2 \\le 10 \\\\\n",
    "3 x_1 + 4 x_2 \\le 40 \\\\\n",
    "$$\n",
    "\n",
    "Let's consider the canonical representation of the problem:\n",
    "$$\n",
    "\\max z = c^T x \\\\\n",
    "s.t. Ax = b\n",
    "$$\n",
    "\n",
    "We have: A = \\[B, N\\], x = (xB xN), c = (cB cN)\n",
    "\n",
    "$$\n",
    "\\max z = c_B x_B + c_N x_N \\\\\n",
    "s.t. B x_B + N x_N = b\n",
    "$$\n",
    "\n",
    "We have: $x_B = B^{-1}b - B^{-1} N x_N$\n",
    "\n",
    "$$\n",
    "z = c_B x_B + c_N x_N \\\\\n",
    "z = c_B (B^{-1}b - B^{-1} N x_N) + c_N x_N \\\\\n",
    "z = \\underbrace{c_B B^{-1}b}_{\\hat{z},\\ current\\ solution} + \\underbrace{(c_N - c_B B^{-1} N)}_{gain,\\ reduced\\ cost} x_N \\\\\n",
    "z = c_B B^{-1}b + (c_N - \\pi N) x_N\n",
    "$$\n",
    "\n",
    "We have: $\\pi = c_B B^{-1}$, the dual variable / shadow price."
   ]
  },
  {
   "cell_type": "code",
   "execution_count": null,
   "id": "ede58f3a",
   "metadata": {},
   "outputs": [],
   "source": [
    "m = model()\n",
    "solver = pyo.SolverFactory(\"cbc\")\n",
    "solver.solve(m)\n",
    "objective = pyo.value(m.cost)"
   ]
  },
  {
   "cell_type": "markdown",
   "id": "9ca0057d",
   "metadata": {},
   "source": [
    "A **shadow price** value is associated with each constraint of the model.\n",
    "It is the instantaneous change in the objective value of the optimal \n",
    "solution obtained by changing the right hand side constraint by one unit."
   ]
  },
  {
   "cell_type": "code",
   "execution_count": null,
   "id": "4c961c77",
   "metadata": {},
   "outputs": [],
   "source": [
    "shadow_price_c1 = m.dual[m.c1]"
   ]
  },
  {
   "cell_type": "markdown",
   "id": "025b2fcb",
   "metadata": {},
   "source": [
    "A **reduced cost** value is associated with each variable of the model.\n",
    "It is the amount by which an objective function parameter would have\n",
    "to improve before it would be possible for a corresponding variable\n",
    "to assume a positive value in the optimal solution.\n",
    "\n",
    "x2 is outside the basis, its value is 0. Its reduce cost is negative.\n",
    "\n",
    "Non-basis variables with reduce cost equal to 0 are alternative optimal solutions."
   ]
  },
  {
   "cell_type": "code",
   "execution_count": null,
   "id": "a87b8c70",
   "metadata": {},
   "outputs": [],
   "source": [
    "assert pyo.value(m.x2) == 0\n",
    "reduce_cost_x2 = m.rc[m.x2]\n",
    "assert reduce_cost_x2 <= 0"
   ]
  },
  {
   "cell_type": "markdown",
   "id": "5bcd64ea",
   "metadata": {},
   "source": [
    "x1 is in the basis so its value is different from 0 and its reduce cost equals 0"
   ]
  },
  {
   "cell_type": "code",
   "execution_count": null,
   "id": "ee637735",
   "metadata": {},
   "outputs": [],
   "source": [
    "assert pyo.value(m.x1) != 0\n",
    "assert m.rc[m.x1] == 0"
   ]
  },
  {
   "cell_type": "markdown",
   "id": "5706ef76",
   "metadata": {},
   "source": [
    "Slack variable: unused capacity. The constraint c1 is saturated (slack variable associated to c1 = 0) but not c2.\n",
    "\n",
    "To increase the objective function, we need to increase the right hand side of constraint c1. It is useless to increase the right hand side of c2."
   ]
  },
  {
   "cell_type": "code",
   "execution_count": null,
   "id": "412c4ef5",
   "metadata": {},
   "outputs": [],
   "source": [
    "(m.c1.uslack(), m.c2.uslack())"
   ]
  },
  {
   "cell_type": "markdown",
   "id": "a6eae51d",
   "metadata": {},
   "source": [
    "Check the objective increases when we add the shadow price to the right hand constraint of c1"
   ]
  },
  {
   "cell_type": "code",
   "execution_count": null,
   "id": "13f3e4ca",
   "metadata": {},
   "outputs": [],
   "source": [
    "increase_in_c1 = 2\n",
    "m = model()\n",
    "m.del_component(m.c1)\n",
    "m.c1 = pyo.Constraint(rule=m.x1 + 2 * m.x2 <= 10 + increase_in_c1)\n",
    "solver.solve(m)\n",
    "assert pyo.value(m.cost) == objective + increase_in_c1 * shadow_price_c1"
   ]
  },
  {
   "cell_type": "markdown",
   "id": "e5546495",
   "metadata": {},
   "source": [
    "The reduce cost of a decision variable (i.e. value -13 for variable x2)\n",
    "is equal to the shadow prive of the non-negativity constraint of the variable\n",
    "(m.x2 >= 0)\n",
    "\n",
    "We can check that the objective decrease by the reduce cost of x2."
   ]
  },
  {
   "cell_type": "code",
   "execution_count": null,
   "id": "880d3dac",
   "metadata": {},
   "outputs": [],
   "source": [
    "m = model()\n",
    "increase_in_x2 = 1\n",
    "m.within_x2 = pyo.Constraint(rule=m.x2 >= increase_in_x2)\n",
    "solver.solve(m)\n",
    "assert pyo.value(m.cost) < objective\n",
    "assert pyo.value(m.cost) == objective + increase_in_x2 * reduce_cost_x2"
   ]
  },
  {
   "cell_type": "markdown",
   "id": "927cd05e",
   "metadata": {},
   "source": [
    "The original cost of x2 in the objective function is too low compared to the cost x1\n",
    "to make x2 interesting.\n",
    "\n",
    "The cost of x2 can be increased by -reduce_cost. This is the _opportunity cost_.\n",
    "\n",
    "It is the amount to add to the coefficient in the objective function for a variable\n",
    "to become non-zero"
   ]
  },
  {
   "cell_type": "code",
   "execution_count": null,
   "id": "309afac8",
   "metadata": {},
   "outputs": [],
   "source": [
    "m = model()\n",
    "m.del_component(m.cost)\n",
    "epsilon = 1e-6\n",
    "m.cost = pyo.Objective(expr=10*m.x1 + (7 - reduce_cost_x2 + epsilon)*m.x2, sense = pyo.maximize)\n",
    "solver.solve(m)\n",
    "assert pyo.value(m.x2) != 0"
   ]
  },
  {
   "cell_type": "markdown",
   "id": "cc6ca7e2",
   "metadata": {},
   "source": [
    "We can check that the objective of the dual is equal to the objective of the primal.\n",
    "\n",
    "Also, after solving the dual:\n",
    " - decision variables of the dual are equal to the shadow prices of the primal\n",
    " - reduce costs of the dual are equal to slack variables of the primal"
   ]
  },
  {
   "cell_type": "markdown",
   "id": "c5487530",
   "metadata": {},
   "source": [
    "# Dual problem"
   ]
  },
  {
   "cell_type": "code",
   "execution_count": null,
   "id": "42991460",
   "metadata": {},
   "outputs": [],
   "source": [
    "m_dual = pyo.ConcreteModel()\n",
    "m_dual.π1 = pyo.Var(within=pyo.NonNegativeReals)\n",
    "m_dual.π2 = pyo.Var(within=pyo.NonNegativeReals)\n",
    "m_dual.cost = pyo.Objective(expr=10*m_dual.π1 + 40*m_dual.π2, sense = pyo.minimize)\n",
    "m_dual.c1 = pyo.Constraint(expr=m_dual.π1 + 3 * m_dual.π2 >= 10)\n",
    "m_dual.c2 = pyo.Constraint(expr=2 * m_dual.π1 + 4*m_dual.π2 >= 7)\n",
    "m_dual.dual = pyo.Suffix(direction=pyo.Suffix.IMPORT)\n",
    "m_dual.rc = pyo.Suffix(direction=pyo.Suffix.IMPORT)\n",
    "solver.solve(m_dual)\n",
    "\n",
    "assert pyo.value(m_dual.cost) == objective\n",
    "assert pyo.value(m_dual.π1) == shadow_price_c1"
   ]
  },
  {
   "cell_type": "markdown",
   "id": "e4c9c37f",
   "metadata": {},
   "source": [
    "The change in the second member or the coefficients of the objective function are only valid within a range.\n",
    "\n",
    "Original PL in standard form:\n",
    "\n",
    "$$\n",
    "\\max z = 10 x_1 + 7 x_2 \\\\\n",
    "s.t. \\\\\n",
    "x_1 + 2 x_2 + u_1 = 10 \\\\\n",
    "3 x_1 + 4 x_2 + u_2 = 40 \\\\\n",
    "$$\n",
    "\n",
    "At the end of the resolution, non-basis variables are $u_1$ and $x_2$.\n",
    "\n",
    "\n",
    "$$\n",
    "\\max z = 100 - 13 x_2 - 10 u_1 \\\\\n",
    "s.t. \\\\\n",
    "x_1 = 10 - 2 x_2 - u_1 \\\\\n",
    "u_2 = 10 + 2 x_2 + 3 u_1 \\\\\n",
    "$$\n",
    "\n",
    "It also gives us the optimal dual basis:\n",
    "$$\n",
    "\\min w = 100 + 10 x_1 + 10 u_2 \\\\\n",
    "   x_2 =  10 -  3 x_1 -    u_2 \\\\\n",
    "   u_1 = -13 +  2 x_1 +  2 u_2 \n",
    "$$\n",
    "\n",
    "We want to know how much we can change some of the parameters of the PL and the impact of the objective function with changing the variables in basis.\n",
    "\n",
    "## Sensitivity Analysis for Coefficients of the Objective Function\n",
    "\n",
    "Let's improve the coefficient of the basis variable $x_1$. We replace its coefficient by $\\alpha$: $\\max z = \\alpha x_1 + 7 x_2 $\n",
    "\n",
    "We want to keep the same set of basis and non basis variables. Changing the coefficient will not change the equation. We have:\n",
    "$$\n",
    "x_1 = 10 - 2 x_2 - u_1 \\\\\n",
    "u_2 = 10 + 2 x_2 + 3 u_1 \\\\\n",
    "$$\n",
    "\n",
    "We remplace x_1 by its value in the objective function: \n",
    "\n",
    "$$\n",
    "\\max z = \\alpha (10 - 2 x_2 - u_1) + 7 x_2\\\\\n",
    "\\max z = 10 \\alpha + (7 - 2 \\alpha) x_2 - \\alpha u_1\\\\\n",
    "$$\n",
    "\n",
    "The solution doesn't change as long as the reduced costs remains negative.\n",
    "\n",
    "$$\n",
    "(7 - 2 * alpha) \\le 0 \\rightarrow 7 / 2 \\le \\alpha\\\\\n",
    "- alpha \\le 0 \\rightarrow 0 \\le \\alpha\\\\\n",
    "$$\n",
    "\n",
    "So, when $\\alpha$ is within [7 / 2, $\\infty$], objective will increase by $10 * \\alpha$\n",
    "\n",
    "## Sensitivity Analysis for Second Member\n",
    "\n",
    "Let's improve the second member of the first constraint by $\\lambda$: $x_1 + 2 x_2 \\le 10 + \\lambda$. To the standard form, we have: $x_1 + 2 x_2 + u_1 = 10 + \\lambda$\n",
    "\n",
    "We want to see how much we can increase/decrease 10 by $\\lambda$. \n",
    "$x_1 + 2 x_2 + (u_1  - \\lambda) = 10$. If we define $U_1 = u_1 - \\lambda$, the PL will give us the same solution:\n",
    "\n",
    "$$\n",
    "\\max z = 100 - 13 x_2 - 10 (u_1 - \\lambda) = 100 + 10 \\lambda - 13 x_2 - 10 u_1  \\\\\n",
    "s.t. \\\\\n",
    "x_1 = 10 - 2 x_2 - (u_1 - \\lambda) \\ge 0\\\\\n",
    "u_2 = 10 + 2 x_2 + 3 (u_1 - \\lambda) \\ge 0\\\\\n",
    "$$\n",
    "\n",
    "10 is the shadow price associated to the first constraint.\n",
    "\n",
    "$u_1$ and $x_2$ must remain non-basis variables, so $u_1 = 0 $ and $x_2 = 0$. So: \n",
    "\n",
    "$$\n",
    "10 + \\lambda \\ge 0 \\rightarrow \\lambda \\ge -10 \\\\\n",
    "10 - 3 \\lambda \\ge 0 \\rightarrow \\lambda \\le 10 / 3\n",
    "$$\n",
    "\n",
    "So, when $\\lambda$ is within [-10, 10 / 3], objective will increase by $10 * \\lambda$\n"
   ]
  },
  {
   "cell_type": "markdown",
   "id": "57899206",
   "metadata": {},
   "source": [
    "## Complementary Slackness\n",
    "\n",
    "Propositions are equivalent:\n",
    "\n",
    " * $x_0$, the optimal solution of the primal, and $\\pi_0$, the dual one\n",
    " * $c^T x_0 = \\pi_0^T b$\n",
    " * $(\\pi_0)_i > 0$ \\rightarrow $A_i x_0 = b$\n",
    " * $(\\pi_0)_i (b - A_i x_0) = 0$ and $(x_0)_j (A^T_i \\pi_0 - c_j) = 0$\n",
    "\n",
    "> It says that if a dual variable is greater than zero (slack) then the corresponding primal constraint must be an equality (tight.) It also says that if the primal constraint is slack then the corresponding dual variable is tight (or zero.)\n",
    "[CS 435 : Linear Optimization](https://www.cse.iitb.ac.in/~sundar/cs435/lecture15.pdf)"
   ]
  }
 ],
 "metadata": {
  "kernelspec": {
   "display_name": "Python 3 (ipykernel)",
   "language": "python",
   "name": "python3"
  },
  "language_info": {
   "codemirror_mode": {
    "name": "ipython",
    "version": 3
   },
   "file_extension": ".py",
   "mimetype": "text/x-python",
   "name": "python",
   "nbconvert_exporter": "python",
   "pygments_lexer": "ipython3",
   "version": "3.9.10"
  }
 },
 "nbformat": 4,
 "nbformat_minor": 5
}
