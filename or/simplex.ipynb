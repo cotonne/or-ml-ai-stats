{
 "cells": [
  {
   "cell_type": "markdown",
   "id": "e6c6b4c2",
   "metadata": {},
   "source": [
    "This notebook has an implementation with the matrix notation of the simplex\n",
    "\n",
    "Given the following Linear Program:\n",
    "\n",
    "$$\n",
    "\\begin{matrix}\n",
    "\\max z = & 4 x_1 & + & 3 x_2 \\\\\n",
    "s.t.    &   x_1 &   &       & \\le  8 \\\\\n",
    "        &       &   &   x_2 & \\le  6 \\\\\n",
    "        &   x_1 & + & 2 x_2 & \\le 15 \\\\\n",
    "        & 2 x_1 & + &   x_2 & \\le 18 \\\\\n",
    "\\end{matrix}\n",
    "$$"
   ]
  },
  {
   "cell_type": "code",
   "execution_count": 1,
   "id": "d1c219dd",
   "metadata": {},
   "outputs": [],
   "source": [
    "import numpy as np\n",
    "import matplotlib.pyplot as plt"
   ]
  },
  {
   "cell_type": "code",
   "execution_count": 2,
   "id": "b53cb37f",
   "metadata": {},
   "outputs": [
    {
     "data": {
      "image/png": "[encoded data removed]",
      "text/plain": [
       "<Figure size 432x288 with 1 Axes>"
      ]
     },
     "metadata": {
      "needs_background": "light"
     },
     "output_type": "display_data"
    }
   ],
   "source": [
    "plt.vlines(x = 8, ymin = 0, ymax = 2, color='red')\n",
    "plt.hlines(y = 6, xmin = 0, xmax = 3, color='red')\n",
    "x1 = np.linspace(2,10,100)\n",
    "plt.plot(x1, 15/2 - (1/2)*x1, '-r')\n",
    "plt.plot(x1, 18 - 2*x1, '-r')\n",
    "plt.plot(x1, 40/3-(4/3)*x1, '-b')\n",
    "x = np.linspace(0,6,100)\n",
    "y = np.linspace(0,6,100)\n",
    "plt.title('Feasibles solutions of LP')\n",
    "plt.xlabel('x', color='#1C2833')\n",
    "plt.ylabel('y', color='#1C2833')\n",
    "plt.grid()\n",
    "plt.show()"
   ]
  },
  {
   "cell_type": "markdown",
   "id": "a7e2768b",
   "metadata": {},
   "source": [
    "We introduce one slack variable u_i per constraint to have the standard form.\n",
    "\n",
    "0 is a feasible solution, the initial base is (u_1, u_2, u_3, u_4) = (0, 0, 0, 0)"
   ]
  },
  {
   "cell_type": "code",
   "execution_count": 3,
   "id": "90ef1f1c",
   "metadata": {},
   "outputs": [],
   "source": [
    "c = np.array([4, 3, 0, 0, 0, 0])\n",
    "A = np.array([[1, 0, 1, 0, 0, 0],\n",
    "              [0, 1, 0, 1, 0, 0],\n",
    "              [1, 2, 0, 0, 1, 0],\n",
    "              [2, 1, 0, 0, 0, 1]])\n",
    "b = np.array([[8], [6], [15], [18]])\n",
    "var_names = [\"x1\", \"x2\", \"u1\", \"u2\", \"u3\", \"u4\"]"
   ]
  },
  {
   "cell_type": "code",
   "execution_count": 4,
   "id": "d47441e0",
   "metadata": {},
   "outputs": [
    {
     "name": "stdout",
     "output_type": "stream",
     "text": [
      "--------------------\n",
      "Current objective = [0.]\n",
      "Reduced costs [4. 3.]\n",
      "Il y a encore des coûts réduits positifs qui permettent d'améliorer l'objectif\n",
      "La variable x1 entre, la variable u1 sort\n",
      "--------------------\n",
      "Current objective = [32.]\n",
      "Reduced costs [-4.  3.]\n",
      "Il y a encore des coûts réduits positifs qui permettent d'améliorer l'objectif\n",
      "La variable x2 entre, la variable u4 sort\n",
      "--------------------\n",
      "Current objective = [38.]\n",
      "Reduced costs [ 2. -3.]\n",
      "Il y a encore des coûts réduits positifs qui permettent d'améliorer l'objectif\n",
      "La variable u1 entre, la variable u3 sort\n",
      "--------------------\n",
      "Current objective = [40.]\n",
      "Reduced costs [-0.66666667 -1.66666667]\n",
      "x_B = [[0. 7.]\n",
      " [3. 2.]\n",
      " [2. 1.]\n",
      " [1. 4.]]\n",
      "π = [0.         0.         0.66666667 1.66666667]\n"
     ]
    },
    {
     "name": "stderr",
     "output_type": "stream",
     "text": [
      "/tmp/ipykernel_9395/2249264021.py:30: RuntimeWarning: divide by zero encountered in true_divide\n",
      "  x_N_ = x_B / x_N[:, variable_qui_entre_en_base_index_N][np.newaxis].T\n"
     ]
    }
   ],
   "source": [
    "base = np.array([0, 0, 1, 1, 1, 1])\n",
    "base = np.argwhere(base)\n",
    "x_N = np.zeros((2, 1))\n",
    "index_N = np.array([0, 1])\n",
    "index_B = np.array([2, 3, 4, 5])\n",
    "\n",
    "while True:\n",
    "    print(\"-\" * 20)\n",
    "    c_N = c[index_N]\n",
    "    c_B = c[index_B]\n",
    "    B = A[:, index_B]\n",
    "    N = A[:, index_N]\n",
    "    B_inv = np.linalg.inv(B)\n",
    "    π = c_B @ B_inv\n",
    "    x_B = B_inv @ b\n",
    "    x_N = B_inv @ N\n",
    "    reduced_costs = c_N - π @ N\n",
    "    \n",
    "    z = c_B.T @ x_B\n",
    "    print(f\"Current objective = {z}\") \n",
    "\n",
    "    print(f\"Reduced costs {reduced_costs}\")\n",
    "    if np.alltrue(reduced_costs <= 0):\n",
    "        break\n",
    "    \n",
    "    print(\"Il y a encore des coûts réduits positifs qui permettent d'améliorer l'objectif\")\n",
    "\n",
    "    variable_qui_entre_en_base_index_N = np.argmax(reduced_costs)\n",
    "    variable_qui_entre_en_base = index_N[variable_qui_entre_en_base_index_N]\n",
    "    x_N_ = x_B / x_N[:, variable_qui_entre_en_base_index_N][np.newaxis].T\n",
    "    variable_qui_sortant_base_B_to_N = np.argmin(np.ma.masked_less_equal(x_N_, 0.0, copy=False))\n",
    "    variable_qui_sortant_base = index_B[variable_qui_sortant_base_B_to_N]\n",
    "    print(f\"La variable {var_names[variable_qui_entre_en_base]} entre, la variable {var_names[variable_qui_sortant_base]} sort\")\n",
    "    \n",
    "    index_N[variable_qui_entre_en_base_index_N] = variable_qui_sortant_base\n",
    "    index_B[variable_qui_sortant_base_B_to_N] = variable_qui_entre_en_base\n",
    "    \n",
    "print(f\"x_B = {np.append(index_B[np.newaxis].T, x_B, axis=1)}\")\n",
    "print(f\"π = {π}\")"
   ]
  },
  {
   "cell_type": "code",
   "execution_count": 5,
   "id": "25aff2a6",
   "metadata": {},
   "outputs": [],
   "source": [
    "import pyomo.environ as pyo\n",
    "\n",
    "model = pyo.ConcreteModel()\n",
    "model.x1 = pyo.Var()\n",
    "model.x2 = pyo.Var()\n",
    "model.o = pyo.Objective(expr=4 * model.x1 + 3 * model.x2, sense = pyo.maximize)\n",
    "model.c1 = pyo.Constraint(expr=model.x1 <= 8)\n",
    "model.c2 = pyo.Constraint(expr=model.x2 <= 6)\n",
    "model.c3 = pyo.Constraint(expr=model.x1 + 2 * model.x2 <= 15)\n",
    "model.c4 = pyo.Constraint(expr=2 * model.x1 + model.x2 <= 18)\n",
    "model.rc = pyo.Suffix(direction=pyo.Suffix.IMPORT)\n",
    "model.dual = pyo.Suffix(direction=pyo.Suffix.IMPORT)"
   ]
  },
  {
   "cell_type": "code",
   "execution_count": 6,
   "id": "c8e1561c",
   "metadata": {},
   "outputs": [
    {
     "data": {
      "text/plain": [
       "{'Problem': [{'Name': 'unknown', 'Lower bound': 40.0, 'Upper bound': 40.0, 'Number of objectives': 1, 'Number of constraints': 5, 'Number of variables': 3, 'Number of nonzeros': 2, 'Sense': 'maximize'}], 'Solver': [{'Status': 'ok', 'User time': -1.0, 'System time': 0.0, 'Wallclock time': 0.0, 'Termination condition': 'optimal', 'Termination message': 'Model was solved to optimality (subject to tolerances), and an optimal solution is available.', 'Statistics': {'Branch and bound': {'Number of bounded subproblems': None, 'Number of created subproblems': None}, 'Black box': {'Number of iterations': 2}}, 'Error rc': 0, 'Time': 0.014162302017211914}], 'Solution': [OrderedDict([('number of solutions', 0), ('number of solutions displayed', 0)])]}"
      ]
     },
     "execution_count": 6,
     "metadata": {},
     "output_type": "execute_result"
    }
   ],
   "source": [
    "solver = pyo.SolverFactory(\"cbc\")\n",
    "solver.solve(model)"
   ]
  },
  {
   "cell_type": "code",
   "execution_count": 7,
   "id": "28965c0d",
   "metadata": {},
   "outputs": [
    {
     "data": {
      "text/plain": [
       "(7.0, 4.0)"
      ]
     },
     "execution_count": 7,
     "metadata": {},
     "output_type": "execute_result"
    }
   ],
   "source": [
    "pyo.value(model.x1), pyo.value(model.x2)"
   ]
  },
  {
   "cell_type": "code",
   "execution_count": 8,
   "id": "54add352",
   "metadata": {},
   "outputs": [
    {
     "data": {
      "text/plain": [
       "(1.0, 2.0, 0.0, 0.0)"
      ]
     },
     "execution_count": 8,
     "metadata": {},
     "output_type": "execute_result"
    }
   ],
   "source": [
    "(model.c1.uslack(), model.c2.uslack(), model.c3.uslack(), model.c4.uslack())"
   ]
  },
  {
   "cell_type": "code",
   "execution_count": 9,
   "id": "645b9bd3",
   "metadata": {},
   "outputs": [
    {
     "name": "stdout",
     "output_type": "stream",
     "text": [
      "dual : Direction=Suffix.IMPORT, Datatype=Suffix.FLOAT\n",
      "    Key : Value\n",
      "     c1 :       -0.0\n",
      "     c2 :       -0.0\n",
      "     c3 : 0.66666667\n",
      "     c4 :  1.6666667\n"
     ]
    }
   ],
   "source": [
    "model.dual.pprint()"
   ]
  }
 ],
 "metadata": {
  "kernelspec": {
   "display_name": "Python 3 (ipykernel)",
   "language": "python",
   "name": "python3"
  },
  "language_info": {
   "codemirror_mode": {
    "name": "ipython",
    "version": 3
   },
   "file_extension": ".py",
   "mimetype": "text/x-python",
   "name": "python",
   "nbconvert_exporter": "python",
   "pygments_lexer": "ipython3",
   "version": "3.10.4"
  }
 },
 "nbformat": 4,
 "nbformat_minor": 5
}
