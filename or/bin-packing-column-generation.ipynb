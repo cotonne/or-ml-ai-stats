{
 "cells": [
  {
   "cell_type": "markdown",
   "id": "7dd4da59",
   "metadata": {},
   "source": [
    "# Column Generation\n",
    "\n",
    " \n",
    "## Bin packing problem\n",
    "\n",
    "### First formulation\n",
    "\n",
    "We have to put items of size I in bins of size L. We want to minimize the number of bins used.\n",
    "\n",
    "Decision variables:\n",
    " - $y_j$: 1 if bin j is used\n",
    " - $x_{ij}$: 1 if item i is placed in bin j\n",
    "\n",
    "$\n",
    "\\min \\sum y_j\\\\\n",
    "s.t.\\\\\n",
    "\\sum_j x_{ij} = 1 \\forall i (1)\\\\\n",
    "\\sum_i L_i * x_ij \\le L * y_j \\forall j (2) \\\\\n",
    "x_ij \\le y_j (3) \\\\\n",
    "$\n",
    "\n",
    "Constraints:\n",
    " - (1) ensure that item i is put i a bin\n",
    " - (2) ensure that the capacity of bin is not exceeded\n",
    " - (3) ensure that, if one item is put in a bin, the bin is considered as used\n",
    " \n",
    "### Second formulation\n",
    "\n",
    "We express the problem as find a set of patterns (a way of filling a bin).\n",
    "We have a list I containing all unique sizes of items.\n",
    "The list Q is equal to the number of unique sizes items to put.  \n",
    "\n",
    "Decision variables:\n",
    " - $x_p$: equals to the number of times a pattern is used\n",
    "\n",
    "$\n",
    "\\min \\sum x_p\\\\\n",
    "s.t.\\\\\n",
    "\\sum_p M_{ip} x_p \\ge Q_i\\forall i \\in I(1)\\\\\n",
    "$\n",
    "\n",
    "M_ip is the number of items of size Q_i that can be store in pattern p.\n",
    "\n",
    "There is an exponential number of patterns. The idea is to start with a small set of pattern and only add a pattern (a column) if needed\n",
    "\n",
    "\n",
    "## Column Generation\n",
    "\n",
    "1. Start with a small set of paths/patterns/column\n",
    "2. Solve LP\n",
    "3. Check if solution can be improved by adding a new pattern\n",
    " - Yes : Add pattern/column and got to step 2\n",
    " - No : Optimal solution found\n",
    " \n",
    "To know which pattern to add, we need to find a new column with **maximum reduced cost**.\n",
    "\n",
    "Given $\\lambda_i$, the primal variable. We need to solve the following **pricing problem**:\n",
    "\n",
    "$\n",
    "\\max \\sum \\lambda_i y_i\\\\\n",
    "s.t.\\\\\n",
    "\\sum L_i * y_i \\le L\n",
    "$\n",
    "\n",
    "We will have $M_{ip} = y_i$ for the new pattern p.\n",
    "\n",
    "The solution can be improved if reduce cost  of the new pattern is negative, i.e.:\n",
    "\n",
    "$\n",
    "\\sigma_j = c - \\sum_i M_{ip} \\lambda_i \\le 0 \\Rightarrow c \\le \\sum_i M_{ip} \\lambda_i\n",
    "$\n",
    "\n",
    "In the bin packing problem, c = 1\n",
    "\n",
    "$\n",
    "1 \\le \\sum_i M_{ip} \\lambda_i\n",
    "$\n",
    "\n",
    "Which is the termination condition of the column generation algorithm"
   ]
  },
  {
   "cell_type": "code",
   "execution_count": 1,
   "id": "fbc1d80f",
   "metadata": {},
   "outputs": [],
   "source": [
    "import pyomo.environ as pyo\n",
    "import numpy as np\n",
    "\n",
    "duals = []\n",
    "primal_objectives = []\n",
    "\n",
    "L = 9\n",
    "I = [2,3,4,5,6,7,8] # Unique size of items\n",
    "Q = [4,2,6,6,2,2,2] # Requested quantity of items\n",
    "dim_P = len(I)\n",
    "M = np.eye(dim_P)\n",
    "\n",
    "solver = pyo.SolverFactory(\"cbc\")"
   ]
  },
  {
   "cell_type": "markdown",
   "id": "60e15672",
   "metadata": {},
   "source": [
    "## Master Restricted Problem & Pricing problem"
   ]
  },
  {
   "cell_type": "code",
   "execution_count": 2,
   "id": "0e92cc5c",
   "metadata": {},
   "outputs": [],
   "source": [
    "while True:\n",
    "    # Solve Master Restricted Problem\n",
    "    mrp = pyo.ConcreteModel()\n",
    "    mrp.I = pyo.RangeSet(0, len(I) - 1)\n",
    "    mrp.P = pyo.RangeSet(0, dim_P - 1)\n",
    "    mrp.x = pyo.Var(mrp.P, within = pyo.NonNegativeReals) # We relax the domain of x\n",
    "    mrp.o = pyo.Objective(rule=sum([mrp.x[p] for p in mrp.P]))\n",
    "    mrp.c = pyo.Constraint(mrp.I, expr=lambda m, i: sum([M[i, p] * mrp.x[p] for p in mrp.P]) >= Q[i])\n",
    "    mrp.dual = pyo.Suffix(direction=pyo.Suffix.IMPORT)\n",
    "    solver.solve(mrp)\n",
    "    \n",
    "    # Dual variables / Shadow price\n",
    "    lambdas = [mrp.dual[mrp.c[i]] for i in mrp.I]\n",
    "    \n",
    "    primal_objectives.append(pyo.value(mrp.o))\n",
    "    duals.append(lambdas)\n",
    "    \n",
    "    # Solve Pricing Problem\n",
    "    pricing = pyo.ConcreteModel()\n",
    "    pricing.I = pyo.RangeSet(0, len(I) - 1)\n",
    "    pricing.y = pyo.Var(pricing.I, within=pyo.NonNegativeIntegers)\n",
    "    pricing.o = pyo.Objective(rule=sum([lambdas[i] * pricing.y[i] for i in pricing.I]), sense = pyo.maximize)\n",
    "    pricing.c = pyo.Constraint(rule=sum([I[i] * pricing.y[i] for i in pricing.I]) <= L)\n",
    "    # Can be solve with integer knapsack algorithm\n",
    "    solver.solve(pricing)\n",
    "    \n",
    "    # Ensure that the reduce costs are negative\n",
    "    if pyo.value(pricing.o) <= 1:\n",
    "        break\n",
    "    \n",
    "    # Add new path / Variable to Master Restricted Problem\n",
    "    M = np.hstack((M,np.array([[pyo.value(pricing.y[i])] for i in pricing.I])))\n",
    "    dim_P = M.shape[1]"
   ]
  },
  {
   "cell_type": "code",
   "execution_count": 3,
   "id": "c6e537b8",
   "metadata": {},
   "outputs": [
    {
     "name": "stdout",
     "output_type": "stream",
     "text": [
      "Number of bins = 13.0\n",
      "Pattern 6 - [(0.0, 2), (0.0, 3), (0.0, 4), (0.0, 5), (0.0, 6), (0.0, 7), (1.0, 8)] requested 2.0 times\n",
      "Pattern 9 - [(0.0, 2), (0.0, 3), (2.0, 4), (0.0, 5), (0.0, 6), (0.0, 7), (0.0, 8)] requested 1.0 times\n",
      "Pattern 10 - [(0.0, 2), (0.0, 3), (1.0, 4), (1.0, 5), (0.0, 6), (0.0, 7), (0.0, 8)] requested 5.0 times\n",
      "Pattern 11 - [(2.0, 2), (0.0, 3), (0.0, 4), (1.0, 5), (0.0, 6), (0.0, 7), (0.0, 8)] requested 1.0 times\n",
      "Pattern 12 - [(0.0, 2), (1.0, 3), (0.0, 4), (0.0, 5), (1.0, 6), (0.0, 7), (0.0, 8)] requested 2.0 times\n",
      "Pattern 14 - [(1.0, 2), (0.0, 3), (0.0, 4), (0.0, 5), (0.0, 6), (1.0, 7), (0.0, 8)] requested 2.0 times\n"
     ]
    }
   ],
   "source": [
    "# Reintegrate integer constraints and solve MRP\n",
    "for p in mrp.P:\n",
    "    mrp.x[p].domain = pyo.NonNegativeIntegers\n",
    "solver.solve(mrp)\n",
    "\n",
    "print(f\"Number of bins = {pyo.value(mrp.o)}\")\n",
    "\n",
    "for p in mrp.P:\n",
    "    nb_of_pattern = pyo.value(mrp.x[p])\n",
    "    if nb_of_pattern > 0:\n",
    "        pattern = list(zip(M[:, p], I))\n",
    "        print(f\"Pattern {p} - {pattern} requested {nb_of_pattern} times\")"
   ]
  },
  {
   "cell_type": "code",
   "execution_count": 4,
   "id": "8ced5e37",
   "metadata": {},
   "outputs": [
    {
     "data": {
      "text/plain": [
       "[<matplotlib.lines.Line2D at 0x7f02e5e62c80>]"
      ]
     },
     "execution_count": 4,
     "metadata": {},
     "output_type": "execute_result"
    },
    {
     "data": {
      "image/png": "[encoded data removed]",
      "text/plain": [
       "<Figure size 432x288 with 1 Axes>"
      ]
     },
     "metadata": {
      "needs_background": "light"
     },
     "output_type": "display_data"
    }
   ],
   "source": [
    "import matplotlib.pyplot as plt\n",
    "\n",
    "plt.plot(primal_objectives)"
   ]
  },
  {
   "cell_type": "code",
   "execution_count": 5,
   "id": "3d2999e2",
   "metadata": {},
   "outputs": [
    {
     "data": {
      "image/png": "[encoded data removed]",
      "text/plain": [
       "<Figure size 432x288 with 1 Axes>"
      ]
     },
     "metadata": {
      "needs_background": "light"
     },
     "output_type": "display_data"
    }
   ],
   "source": [
    "a = plt.plot(duals)"
   ]
  },
  {
   "cell_type": "code",
   "execution_count": 6,
   "id": "f118f666",
   "metadata": {},
   "outputs": [
    {
     "name": "stdout",
     "output_type": "stream",
     "text": [
      "c : Size=7, Index=I, Active=True\n",
      "    Key : Lower : Body                                        : Upper : Active\n",
      "      0 :   4.0 : x[0] + 3.0*x[7] + 2.0*x[11] + x[13] + x[14] :  +Inf :   True\n",
      "      1 :   2.0 :              x[1] + x[7] + 3.0*x[8] + x[12] :  +Inf :   True\n",
      "      2 :   6.0 :                     x[2] + 2.0*x[9] + x[10] :  +Inf :   True\n",
      "      3 :   6.0 :                        x[3] + x[10] + x[11] :  +Inf :   True\n",
      "      4 :   2.0 :                        x[4] + x[12] + x[13] :  +Inf :   True\n",
      "      5 :   2.0 :                                x[5] + x[14] :  +Inf :   True\n",
      "      6 :   2.0 :                                        x[6] :  +Inf :   True\n"
     ]
    }
   ],
   "source": [
    "mrp.c.pprint()"
   ]
  }
 ],
 "metadata": {
  "kernelspec": {
   "display_name": "Python 3 (ipykernel)",
   "language": "python",
   "name": "python3"
  },
  "language_info": {
   "codemirror_mode": {
    "name": "ipython",
    "version": 3
   },
   "file_extension": ".py",
   "mimetype": "text/x-python",
   "name": "python",
   "nbconvert_exporter": "python",
   "pygments_lexer": "ipython3",
   "version": "3.10.4"
  }
 },
 "nbformat": 4,
 "nbformat_minor": 5
}
