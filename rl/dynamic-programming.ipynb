{
 "cells": [
  {
   "cell_type": "markdown",
   "id": "7aee9901",
   "metadata": {},
   "source": [
    "# Dynamic Programming\n",
    "\n",
    "## Définition\n",
    "\n",
    "Reference: https://www.davidsilver.uk/wp-content/uploads/2020/03/DP.pdf3\n",
    "\n",
    " - Connaissance complète du MDP. Etant donné un MDP, on peut utiliser les algorithmes de programmation dynamiques pour trouver la politique optimale 𝜋^* qui maximise le retour G\n",
    " - Prediction\n",
    "   * Input: MDP <S, A, P, R, 𝛾> et une politique / MRP <S, P^𝜋, R^𝜋, 𝛾>\n",
    "   * Output:  value function v_𝜋\n",
    " - Control\n",
    "   * Input: MDP <S, A, P, R, 𝛾> \n",
    "   * Output: optimal value function v* et policy 𝜋*\n",
    " \n",
    "### Relation de récurrence / Equation de Bellman / Bellman Expectation Equation (MDP)\n",
    "\n",
    "The state-value function can again be decomposed into immediate\n",
    "reward plus discounted value of successor state\n",
    "\n",
    "$\n",
    "v_\\pi(s) = \\mathbb{E}[R_{t+1} + \\gamma v_\\pi(S_{t+1}) / S_t = s] \\\\\n",
    "v_\\pi(s) = \\sum_{a \\in \\mathcal{A}} \\pi(a/s) q_\\pi(s,a) \\\\\n",
    "q_\\pi(s,a) = \\mathcal{R}^a_s + \\gamma \\sum_{s \\in S} \\mathcal{P}^a_{ss'} v_\\pi(s')\n",
    "$\n",
    "\n",
    "On a donc:\n",
    "\n",
    "$\n",
    "v_{k+1}(s) = \\sum_{a\\in \\mathcal{A}} \\pi(a/s) (\\mathcal{R}^a_s + \\gamma \\sum_{s \\in S} \\mathcal{P}^a_{ss'} v_k(s'))\n",
    "$\n",
    "\n",
    "Avec:\n",
    " - $\\mathcal{R}^a_s = \\mathbb{E}[R_{t+1} / S_t = s, A_t = a]$\n",
    " - $\\mathcal{P}^a_{ss'} = \\mathbb{P}[S_{t+1} = s' / S_t = s, A_t = a]$\n",
    "\n",
    "Dans Small World, on suppose que $\\mathcal{R}^a_s = -1$ (0 pour les états terminaux) et $\\mathcal{P}^a_{ss'} = 0.25$\n",
    "\n",
    "### Policy Iteration / Amélioration de la politique\n",
    "\n",
    "On démarre d'une politique π qu'on améliore de manière itérative. L'algorithme est le suivant:\n",
    "\n",
    "_Répéter jusqu'à convergence_:\n",
    " - **Evaluation** de la politique π par l'estimation de la fonction valeur v (policy evaluation)\n",
    " - **Amélioration** gloutonne (*greedy*): $\\pi' = argmax_{a \\in \\mathcal{A}} q_\\pi(s, a), \\pi' \\ge \\pi$ (policy improvement)\n",
    "\n"
   ]
  },
  {
   "cell_type": "code",
   "execution_count": 1,
   "id": "a6832ce9",
   "metadata": {},
   "outputs": [],
   "source": [
    "import numpy as np\n",
    "from random import random\n",
    "import seaborn as sns"
   ]
  },
  {
   "cell_type": "code",
   "execution_count": 2,
   "id": "bff2e03a",
   "metadata": {},
   "outputs": [],
   "source": [
    "nb_columns = 4\n",
    "nb_rows = 4"
   ]
  },
  {
   "cell_type": "code",
   "execution_count": 3,
   "id": "50a3e4ea",
   "metadata": {},
   "outputs": [],
   "source": [
    "actions = [\n",
    "    np.array([0, 1]),\n",
    "    np.array([1, 0]),\n",
    "    np.array([0, -1]),\n",
    "    np.array([-1, 0])\n",
    "]\n",
    "\n",
    "nb_actions = len(actions)\n",
    "\n",
    "terminal_states = [(0, 0), (nb_rows - 1, nb_columns - 1)]\n",
    "\n",
    "v = np.zeros((nb_rows, nb_columns))\n",
    "\n",
    "# Undiscounted episodic MDP\n",
    "γ = 1\n",
    "P = 0.25\n",
    "\n",
    "def reward(new_state):\n",
    "    return 0 if new_state in terminal_states else -1\n",
    "\n",
    "R = np.zeros((nb_rows, nb_columns))\n",
    "for x in range(nb_rows):\n",
    "    for y in range(nb_columns):\n",
    "        R[x, y] = reward((x, y))\n",
    "\n",
    "def step(state, action):\n",
    "    x, y = state + action\n",
    "    new_x = max(0, min(x, nb_rows - 1))\n",
    "    new_y = max(0, min(y, nb_columns - 1))\n",
    "    return (new_x, new_y)\n",
    "\n",
    "def update_v(v, π):\n",
    "    nb_rows, nb_columns = v.shape\n",
    "    v_p = np.zeros(v.shape)\n",
    "    for x in range(nb_rows):\n",
    "        for y in range(nb_columns):\n",
    "            s = (x, y)\n",
    "            v_p[s] = sum([π[s + (a_i,)] * (R[s] + γ * sum([P * v[step(s, ap)] for ap in actions])) for a_i in range(nb_actions)])\n",
    "    return v_p\n",
    "\n",
    "def update_policy_greedy(v):\n",
    "    nb_rows, nb_columns = v.shape\n",
    "    π_p = np.zeros((nb_rows, nb_columns, nb_actions))\n",
    "    for x in range(nb_rows):\n",
    "        for y in range(nb_columns):\n",
    "            s = (x, y)\n",
    "            v_s = [v[step(s, ap)] for ap in actions]\n",
    "            optimal_v = max(v_s)\n",
    "            optimal_actions = v_s == optimal_v\n",
    "            π_p[s] = optimal_actions / sum(optimal_actions)\n",
    "    return π_p\n"
   ]
  },
  {
   "cell_type": "code",
   "execution_count": 7,
   "id": "c5b91a4e",
   "metadata": {},
   "outputs": [],
   "source": [
    "π = np.zeros((nb_rows, nb_columns, nb_actions))\n",
    "\n",
    "# Agent follows uniform random policy\n",
    "# P(a/s) = 1/|A|\n",
    "π.fill(1/nb_actions)\n",
    "\n",
    "\n",
    "v = update_v(v, π)\n",
    "πp = update_policy_greedy(v)\n",
    "\n",
    "while not (πp == π).all():\n",
    "    πp = π\n",
    "    # Evaluate the policy\n",
    "    v = update_v(v, π)\n",
    "    # Improve the policy\n",
    "    π = update_policy_greedy(v)"
   ]
  },
  {
   "cell_type": "code",
   "execution_count": 9,
   "id": "cfd48eab",
   "metadata": {},
   "outputs": [
    {
     "data": {
      "text/plain": [
       "(array([[[0. , 0. , 0.5, 0.5],\n",
       "         [0. , 0. , 1. , 0. ],\n",
       "         [0. , 0. , 1. , 0. ],\n",
       "         [0. , 0.5, 0.5, 0. ]],\n",
       " \n",
       "        [[0. , 0. , 0. , 1. ],\n",
       "         [0. , 0. , 0.5, 0.5],\n",
       "         [0. , 0.5, 0.5, 0. ],\n",
       "         [0. , 1. , 0. , 0. ]],\n",
       " \n",
       "        [[0. , 0. , 0. , 1. ],\n",
       "         [0.5, 0. , 0. , 0.5],\n",
       "         [0.5, 0.5, 0. , 0. ],\n",
       "         [0. , 1. , 0. , 0. ]],\n",
       " \n",
       "        [[0.5, 0. , 0. , 0.5],\n",
       "         [1. , 0. , 0. , 0. ],\n",
       "         [1. , 0. , 0. , 0. ],\n",
       "         [0.5, 0.5, 0. , 0. ]]]),\n",
       " array([[-2.609375, -4.21875 , -4.78125 , -4.921875],\n",
       "        [-4.21875 , -4.640625, -4.828125, -4.78125 ],\n",
       "        [-4.78125 , -4.828125, -4.640625, -4.21875 ],\n",
       "        [-4.921875, -4.78125 , -4.21875 , -2.609375]]))"
      ]
     },
     "execution_count": 9,
     "metadata": {},
     "output_type": "execute_result"
    }
   ],
   "source": [
    "π, v"
   ]
  },
  {
   "cell_type": "code",
   "execution_count": 10,
   "id": "d40d7fff",
   "metadata": {},
   "outputs": [
    {
     "data": {
      "text/plain": [
       "array([[1.        , 0.30405405, 0.06081081, 0.        ],\n",
       "       [0.30405405, 0.12162162, 0.04054054, 0.06081081],\n",
       "       [0.06081081, 0.04054054, 0.12162162, 0.30405405],\n",
       "       [0.        , 0.06081081, 0.30405405, 1.        ]])"
      ]
     },
     "execution_count": 10,
     "metadata": {},
     "output_type": "execute_result"
    }
   ],
   "source": [
    "min_v = min(v.reshape(-1))\n",
    "max_v = max(v.reshape(-1))\n",
    "normalize_v = (v - min_v) / (max_v - min_v)\n",
    "normalize_v"
   ]
  },
  {
   "cell_type": "code",
   "execution_count": 11,
   "id": "1af92d62",
   "metadata": {},
   "outputs": [
    {
     "data": {
      "text/plain": [
       "<AxesSubplot:>"
      ]
     },
     "execution_count": 11,
     "metadata": {},
     "output_type": "execute_result"
    },
    {
     "data": {
      "image/png": "[encoded data removed]",
      "text/plain": [
       "<Figure size 640x480 with 2 Axes>"
      ]
     },
     "metadata": {},
     "output_type": "display_data"
    }
   ],
   "source": [
    "sns.heatmap(v)"
   ]
  },
  {
   "cell_type": "markdown",
   "id": "0ec1dc03",
   "metadata": {},
   "source": [
    "### Value Iteration\n",
    "\n",
    "On cherche à trouver la fonction valeur optimale v* en améliorant de manière itérative v.\n",
    "\n",
    "$\n",
    "v^* \\leftarrow \\max_{a \\in \\mathcal{A}} \\mathcal{R}^a_s + \\gamma \\sum_{s' \\in S} \\mathcal{P}^a_{ss'} v^*(s')\n",
    "$\n",
    "\n",
    " - policy extraction"
   ]
  },
  {
   "cell_type": "code",
   "execution_count": 13,
   "id": "e44946d6",
   "metadata": {},
   "outputs": [
    {
     "data": {
      "text/plain": [
       "(array([[ 0.        , -1.        , -1.25      , -1.3125    ],\n",
       "        [-1.        , -1.5       , -1.6875    , -1.75      ],\n",
       "        [-1.25      , -1.6875    , -1.84375   , -1.8984375 ],\n",
       "        [-1.3125    , -1.75      , -1.8984375 , -1.94921875]]),\n",
       " <AxesSubplot:>)"
      ]
     },
     "execution_count": 13,
     "metadata": {},
     "output_type": "execute_result"
    },
    {
     "data": {
      "image/png": "[encoded data removed]",
      "text/plain": [
       "<Figure size 640x480 with 2 Axes>"
      ]
     },
     "metadata": {},
     "output_type": "display_data"
    }
   ],
   "source": [
    "v = np.zeros((nb_rows, nb_columns))\n",
    "\n",
    "θ = 1e-4\n",
    "Δ = 0\n",
    "\n",
    "def reward2(new_state):\n",
    "    return 0 if new_state == (0,0) else -1\n",
    "\n",
    "while Δ < θ:\n",
    "    for x in range(nb_rows):\n",
    "        for y in range(nb_columns):\n",
    "            s = (x, y)\n",
    "            v_s = v[s]\n",
    "            v[s] = max([reward2(s) + γ * sum([P * v[step(s, ap)] for ap in actions]) for a in range(nb_actions)])\n",
    "            Δ = max(Δ, abs(v_s - v[s]))\n",
    "\n",
    "π = update_policy_greedy(v)\n",
    "\n",
    "v, sns.heatmap(v)"
   ]
  }
 ],
 "metadata": {
  "kernelspec": {
   "display_name": "Python 3 (ipykernel)",
   "language": "python",
   "name": "python3"
  },
  "language_info": {
   "codemirror_mode": {
    "name": "ipython",
    "version": 3
   },
   "file_extension": ".py",
   "mimetype": "text/x-python",
   "name": "python",
   "nbconvert_exporter": "python",
   "pygments_lexer": "ipython3",
   "version": "3.9.10"
  }
 },
 "nbformat": 4,
 "nbformat_minor": 5
}
