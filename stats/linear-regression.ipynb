{
 "cells": [
  {
   "cell_type": "markdown",
   "id": "827fdcd0",
   "metadata": {},
   "source": [
    "# Linear Regression\n",
    "\n",
    "## Modèle explicatif\n",
    "\n",
    "On a observé deux ensembles de var X et Y sur n individus tel que $y = f(x) + \\epsilon$\n",
    "\n",
    "On suppose que $f$ est une fonction lineaire égale à: $f: x \\mapsto ax + b$\n",
    "\n",
    "### Différences avec l'ACP\n",
    "\n",
    "Dans une ACP, les variables n'ont pas de relation entre elles.\n",
    "Ici, y dépend de x.\n",
    "\n",
    "### Critère des moindres carrées\n",
    "\n",
    "Le résidu ($e_i = y_i - \\hat{y}_i$) correspond à ce qui n'est pas expliqué par le modèle. On cherche à le minimiser.\n",
    "\n",
    "On va chercher à a et b en minimisant le carré des résidus, c'est-à-dire:\n",
    "\n",
    "$\n",
    "\\min \\sum_i e^2_i = \\min \\sum_i (y_i - \\hat{y}_i)^2\n",
    "$\n",
    "\n",
    "La solution optimale donne:\n",
    "\n",
    "$\n",
    "b = \\frac {\\sum (x_i - \\overline{x})(y_i - \\overline{y})}{\\sum (x_i - \\overline{x})^2}\n",
    "b = \\frac {cov(x,y)}{var(x)}\n",
    "$\n",
    "\n",
    "$\n",
    "a = \\overline{y} - b \\overline{x}\n",
    "$"
   ]
  },
  {
   "cell_type": "code",
   "execution_count": 1,
   "id": "d1e978dc",
   "metadata": {},
   "outputs": [
    {
     "name": "stdout",
     "output_type": "stream",
     "text": [
      "iris.data\r\n"
     ]
    }
   ],
   "source": [
    "# Iris dataset\n",
    "!ls iris.data || wget https://archive.ics.uci.edu/ml/machine-learning-databases/iris/iris.data"
   ]
  },
  {
   "cell_type": "code",
   "execution_count": 2,
   "id": "03d604ec",
   "metadata": {},
   "outputs": [
    {
     "data": {
      "text/html": [
       "<div>\n",
       "<style scoped>\n",
       "    .dataframe tbody tr th:only-of-type {\n",
       "        vertical-align: middle;\n",
       "    }\n",
       "\n",
       "    .dataframe tbody tr th {\n",
       "        vertical-align: top;\n",
       "    }\n",
       "\n",
       "    .dataframe thead th {\n",
       "        text-align: right;\n",
       "    }\n",
       "</style>\n",
       "<table border=\"1\" class=\"dataframe\">\n",
       "  <thead>\n",
       "    <tr style=\"text-align: right;\">\n",
       "      <th></th>\n",
       "      <th>sepal length</th>\n",
       "      <th>sepal width</th>\n",
       "      <th>petal length</th>\n",
       "      <th>petal width</th>\n",
       "    </tr>\n",
       "  </thead>\n",
       "  <tbody>\n",
       "    <tr>\n",
       "      <th>count</th>\n",
       "      <td>50.00000</td>\n",
       "      <td>50.000000</td>\n",
       "      <td>50.000000</td>\n",
       "      <td>50.00000</td>\n",
       "    </tr>\n",
       "    <tr>\n",
       "      <th>mean</th>\n",
       "      <td>5.00600</td>\n",
       "      <td>3.418000</td>\n",
       "      <td>1.464000</td>\n",
       "      <td>0.24400</td>\n",
       "    </tr>\n",
       "    <tr>\n",
       "      <th>std</th>\n",
       "      <td>0.35249</td>\n",
       "      <td>0.381024</td>\n",
       "      <td>0.173511</td>\n",
       "      <td>0.10721</td>\n",
       "    </tr>\n",
       "    <tr>\n",
       "      <th>min</th>\n",
       "      <td>4.30000</td>\n",
       "      <td>2.300000</td>\n",
       "      <td>1.000000</td>\n",
       "      <td>0.10000</td>\n",
       "    </tr>\n",
       "    <tr>\n",
       "      <th>25%</th>\n",
       "      <td>4.80000</td>\n",
       "      <td>3.125000</td>\n",
       "      <td>1.400000</td>\n",
       "      <td>0.20000</td>\n",
       "    </tr>\n",
       "    <tr>\n",
       "      <th>50%</th>\n",
       "      <td>5.00000</td>\n",
       "      <td>3.400000</td>\n",
       "      <td>1.500000</td>\n",
       "      <td>0.20000</td>\n",
       "    </tr>\n",
       "    <tr>\n",
       "      <th>75%</th>\n",
       "      <td>5.20000</td>\n",
       "      <td>3.675000</td>\n",
       "      <td>1.575000</td>\n",
       "      <td>0.30000</td>\n",
       "    </tr>\n",
       "    <tr>\n",
       "      <th>max</th>\n",
       "      <td>5.80000</td>\n",
       "      <td>4.400000</td>\n",
       "      <td>1.900000</td>\n",
       "      <td>0.60000</td>\n",
       "    </tr>\n",
       "  </tbody>\n",
       "</table>\n",
       "</div>"
      ],
      "text/plain": [
       "       sepal length  sepal width  petal length  petal width\n",
       "count      50.00000    50.000000     50.000000     50.00000\n",
       "mean        5.00600     3.418000      1.464000      0.24400\n",
       "std         0.35249     0.381024      0.173511      0.10721\n",
       "min         4.30000     2.300000      1.000000      0.10000\n",
       "25%         4.80000     3.125000      1.400000      0.20000\n",
       "50%         5.00000     3.400000      1.500000      0.20000\n",
       "75%         5.20000     3.675000      1.575000      0.30000\n",
       "max         5.80000     4.400000      1.900000      0.60000"
      ]
     },
     "execution_count": 2,
     "metadata": {},
     "output_type": "execute_result"
    }
   ],
   "source": [
    "import pandas as pd\n",
    "df = pd.read_csv(\"iris.data\", header=None, names=[\"sepal length\", \"sepal width\", \"petal length\", \"petal width\", \"class\"])\n",
    "df = df[df[\"class\"] == \"Iris-setosa\"]\n",
    "df.describe()"
   ]
  },
  {
   "cell_type": "code",
   "execution_count": 3,
   "id": "79539f47",
   "metadata": {},
   "outputs": [
    {
     "data": {
      "text/plain": [
       "<matplotlib.collections.PathCollection at 0x7f8273dabf40>"
      ]
     },
     "execution_count": 3,
     "metadata": {},
     "output_type": "execute_result"
    },
    {
     "data": {
      "image/png": "[encoded data removed]",
      "text/plain": [
       "<Figure size 432x288 with 1 Axes>"
      ]
     },
     "metadata": {
      "needs_background": "light"
     },
     "output_type": "display_data"
    }
   ],
   "source": [
    "import matplotlib.pyplot as plt\n",
    "X = df[\"sepal length\"]\n",
    "y = df[\"sepal width\"]\n",
    "plt.scatter(X, y)"
   ]
  },
  {
   "cell_type": "code",
   "execution_count": 4,
   "id": "2be41d06",
   "metadata": {},
   "outputs": [
    {
     "data": {
      "text/plain": [
       "(0.807233665122696, -0.623011727604216)"
      ]
     },
     "execution_count": 4,
     "metadata": {},
     "output_type": "execute_result"
    }
   ],
   "source": [
    "import numpy as np\n",
    "X_ = np.average(X)\n",
    "y_ = np.average(y)\n",
    "cov_Xy = np.sum((X - X_) * (y - y_))\n",
    "var_x = np.sum((X - X_) ** 2)\n",
    "a = cov_Xy / var_x\n",
    "b = y_ - a * X_\n",
    "(a, b)"
   ]
  },
  {
   "cell_type": "code",
   "execution_count": 5,
   "id": "69ac2d4d",
   "metadata": {},
   "outputs": [
    {
     "data": {
      "text/plain": [
       "<matplotlib.collections.PathCollection at 0x7f826bce6620>"
      ]
     },
     "execution_count": 5,
     "metadata": {},
     "output_type": "execute_result"
    },
    {
     "data": {
      "image/png": "[encoded data removed]",
      "text/plain": [
       "<Figure size 288x288 with 1 Axes>"
      ]
     },
     "metadata": {
      "needs_background": "light"
     },
     "output_type": "display_data"
    }
   ],
   "source": [
    "fig, ax = plt.subplots(figsize=(4,4))\n",
    "ax.scatter(X, y)\n",
    "X_test = np.array([np.min(X), np.max(X)])\n",
    "y_test = a * X_test + b\n",
    "ax.plot(X_test, y_test, color=\"green\")\n",
    "ax.scatter(X_, y_, color=\"red\")"
   ]
  },
  {
   "cell_type": "markdown",
   "id": "0b0c481c",
   "metadata": {},
   "source": [
    "### Propriétés\n",
    "\n",
    " - La droite passe par ($\\overline{x}$, $\\overline{y}$)\n",
    " - $\\overline{y} = \\hat{\\overline{y}}$ (moyenne des y = moyenne des y prédits)\n",
    " - $\\sum e_i = 0$\n",
    " - $\\sum e_i x_i = 0$\n",
    " \n",
    "### Qualité de l'ajustement linéaire\n",
    "\n",
    "$\n",
    "\\underbrace{\\sum (y_i - \\overline{y})^2}_{\\text{Somme des carrés totaux}} = \\underbrace{\\sum (y_i - \\hat{y}_i)^2}_{\\text{Somme des carrés des résidus/information non expliquée}} + \\underbrace{\\sum (\\hat{y}_i)^2 - \\overline{y})^2}_{\\text{Somme des carrés/information expliquée par le modèle, par la droite}}\n",
    "$\n",
    "\n",
    "### Coefficient de détermination\n",
    "\n",
    "$\n",
    "R^2 = \\frac{SCE}{SCT} = \\frac {\\sum (\\hat{y}_i)^2 - \\overline{y})^2}{\\sum (y_i - \\overline{y})^2} = b^2 \\frac{s^2_x}{s^2_y} = (cor(x, y)) ^2\n",
    "$\n",
    "\n",
    "R² mesure l'ajustement de la droite aux données. R² explique la part de variation de y expliquée par la variation de x"
   ]
  },
  {
   "cell_type": "markdown",
   "id": "9d5490b3",
   "metadata": {},
   "source": [
    "## Etude des points influents et des résidus\n",
    "### Contribution de chaque observation\n",
    "\n",
    "**Levier** : Contribution d'un point à la construction de la droite\n",
    "$\n",
    "h_i = \\frac{1}{n} + \\frac{(x_i - \\overline{x})^2}{\\sum (x_j - \\overline{x})^2}\n",
    "$\n",
    "\n",
    "$h_i$ important is $\\gt \\frac {4}{n}$. Le levier indique une _potentielle_ influence par rapport à la pente. Pas d'influence => si on retire le point, elle n'impacte pas la droite\n",
    "\n",
    "Un point abberant (éloigné de la droite) mais pas influent (proche de la moyenne) aura un levier faible => influence sur la distance de Cook faible = levier faible * résidu important\n",
    "\n",
    " - Influence en général: **Distance de Cook** pour l'observation i = $D_i = \\frac {\\hat{y_j} - \\hat{y}_{(-i)j}} {2 \\hat{\\sigma}^2} = \\underbrace {\\frac{(e_i)^2}{\\hat{\\sigma}^2}}_{\\text{résidu studentisé, influence / y}} \\underbrace {\\frac {h_i} {(1-h_i)^2}}_{\\text{fonction du levier, influence / x}}$\n",
    " - Influence variabilité: **Cov Ratio**. Grand si |CovRatio - 1| >3 (P+1)/2\n",
    " - Influence prédiction: **DFFITS**. Grand si > 2 * sqrt(P+1) / n\n",
    " - Influence pente: **DFBETAS_x**. Grand si |DFBETAS| > 2 / sqrt(n)\n",
    " - Influence ordonnée à l'origine: **DFBETAS_intercept** "
   ]
  },
  {
   "cell_type": "code",
   "execution_count": 6,
   "id": "c81e7779",
   "metadata": {},
   "outputs": [
    {
     "data": {
      "text/plain": [
       "<matplotlib.lines.Line2D at 0x7f826bb1c040>"
      ]
     },
     "execution_count": 6,
     "metadata": {},
     "output_type": "execute_result"
    },
    {
     "data": {
      "image/png": "[encoded data removed]",
      "text/plain": [
       "<Figure size 432x288 with 1 Axes>"
      ]
     },
     "metadata": {
      "needs_background": "light"
     },
     "output_type": "display_data"
    }
   ],
   "source": [
    "ŷ = a * X + b\n",
    "residuals = (ŷ - y)\n",
    "plt.scatter(range(len(residuals)), residuals)\n",
    "plt.axhline(y = 0, color = 'r', linestyle = 'dashed')"
   ]
  },
  {
   "cell_type": "code",
   "execution_count": 7,
   "id": "50310b7d",
   "metadata": {},
   "outputs": [
    {
     "data": {
      "text/html": [
       "<div>\n",
       "<style scoped>\n",
       "    .dataframe tbody tr th:only-of-type {\n",
       "        vertical-align: middle;\n",
       "    }\n",
       "\n",
       "    .dataframe tbody tr th {\n",
       "        vertical-align: top;\n",
       "    }\n",
       "\n",
       "    .dataframe thead th {\n",
       "        text-align: right;\n",
       "    }\n",
       "</style>\n",
       "<table border=\"1\" class=\"dataframe\">\n",
       "  <thead>\n",
       "    <tr style=\"text-align: right;\">\n",
       "      <th></th>\n",
       "      <th>StdDev Residual</th>\n",
       "      <th>Student Residual</th>\n",
       "      <th>Cook distance</th>\n",
       "      <th>Hat Diag H</th>\n",
       "      <th>Cov Ratio</th>\n",
       "      <th>Dffits</th>\n",
       "      <th>Dfbetas</th>\n",
       "    </tr>\n",
       "  </thead>\n",
       "  <tbody>\n",
       "    <tr>\n",
       "      <th>0</th>\n",
       "      <td>0.371363</td>\n",
       "      <td>0.017466</td>\n",
       "      <td>0.000006</td>\n",
       "      <td>0.020719</td>\n",
       "      <td>1.042425</td>\n",
       "      <td>0.002514</td>\n",
       "      <td>0.002514</td>\n",
       "    </tr>\n",
       "    <tr>\n",
       "      <th>1</th>\n",
       "      <td>0.372404</td>\n",
       "      <td>1.434280</td>\n",
       "      <td>0.031798</td>\n",
       "      <td>0.015222</td>\n",
       "      <td>0.993093</td>\n",
       "      <td>0.180317</td>\n",
       "      <td>0.180317</td>\n",
       "    </tr>\n",
       "    <tr>\n",
       "      <th>2</th>\n",
       "      <td>0.372007</td>\n",
       "      <td>0.115786</td>\n",
       "      <td>0.000236</td>\n",
       "      <td>0.017319</td>\n",
       "      <td>1.038541</td>\n",
       "      <td>0.015216</td>\n",
       "      <td>0.015216</td>\n",
       "    </tr>\n",
       "    <tr>\n",
       "      <th>3</th>\n",
       "      <td>0.372209</td>\n",
       "      <td>0.238044</td>\n",
       "      <td>0.000936</td>\n",
       "      <td>0.016254</td>\n",
       "      <td>1.036500</td>\n",
       "      <td>0.030302</td>\n",
       "      <td>0.030302</td>\n",
       "    </tr>\n",
       "    <tr>\n",
       "      <th>4</th>\n",
       "      <td>0.371135</td>\n",
       "      <td>-0.644085</td>\n",
       "      <td>0.009297</td>\n",
       "      <td>0.021920</td>\n",
       "      <td>1.034875</td>\n",
       "      <td>-0.095839</td>\n",
       "      <td>-0.095839</td>\n",
       "    </tr>\n",
       "  </tbody>\n",
       "</table>\n",
       "</div>"
      ],
      "text/plain": [
       "   StdDev Residual  Student Residual  Cook distance  Hat Diag H  Cov Ratio  \\\n",
       "0         0.371363          0.017466       0.000006    0.020719   1.042425   \n",
       "1         0.372404          1.434280       0.031798    0.015222   0.993093   \n",
       "2         0.372007          0.115786       0.000236    0.017319   1.038541   \n",
       "3         0.372209          0.238044       0.000936    0.016254   1.036500   \n",
       "4         0.371135         -0.644085       0.009297    0.021920   1.034875   \n",
       "\n",
       "     Dffits   Dfbetas  \n",
       "0  0.002514  0.002514  \n",
       "1  0.180317  0.180317  \n",
       "2  0.015216  0.015216  \n",
       "3  0.030302  0.030302  \n",
       "4 -0.095839 -0.095839  "
      ]
     },
     "execution_count": 7,
     "metadata": {},
     "output_type": "execute_result"
    }
   ],
   "source": [
    "import statsmodels.api as sm\n",
    "res = sm.OLS(X, y).fit()\n",
    "\n",
    "infl = res.get_influence()\n",
    "iris_desc = pd.DataFrame(zip(\n",
    "    infl.resid_std,\n",
    "    infl.resid_studentized,\n",
    "    infl.cooks_distance[0],\n",
    "    infl.hat_matrix_diag,\n",
    "    infl.cov_ratio,\n",
    "    infl.dffits[0],\n",
    "    infl.dfbetas.reshape((50,))), columns=[\n",
    "    \"StdDev Residual\",\n",
    "    \"Student Residual\",\n",
    "    \"Cook distance\",\n",
    "    \"Hat Diag H\",\n",
    "    \"Cov Ratio\",\n",
    "    \"Dffits\",\n",
    "    \"Dfbetas\"\n",
    "])\n",
    "iris_desc.head()"
   ]
  },
  {
   "cell_type": "code",
   "execution_count": 8,
   "id": "e9876060",
   "metadata": {},
   "outputs": [
    {
     "data": {
      "image/png": "[encoded data removed]",
      "text/plain": [
       "<Figure size 288x288 with 1 Axes>"
      ]
     },
     "metadata": {
      "needs_background": "light"
     },
     "output_type": "display_data"
    }
   ],
   "source": [
    "fig, ax = plt.subplots(figsize=(4,4))\n",
    "ax.scatter(X, y)\n",
    "X_test = np.array([np.min(X), np.max(X)])\n",
    "y_test = a * X_test + b\n",
    "ax.plot(X_test, y_test, color=\"green\")\n",
    "ax.scatter(X_, y_, color=\"red\")\n",
    "\n",
    "points = [\n",
    "    (41, 'Influent\\nAberrant', 'left', 'bottom'),\n",
    "    (14, 'Influent\\nNon-aberrant', 'right', 'bottom'),\n",
    "    (25, 'Non influent\\nAberrant', 'left', 'top'),\n",
    "    # index_point == 32\n",
    "    (np.argmax(iris_desc[\"Cook distance\"]), '+ influent', 'right', 'bottom'),\n",
    "]\n",
    "\n",
    "for index_point, text, ha, va in points:\n",
    "    xp, yp = X[index_point], y[index_point]\n",
    "    ax.scatter(xp, yp, color=\"pink\")\n",
    "    ax.text(xp, yp, text, ha=ha, va=va)"
   ]
  },
  {
   "cell_type": "code",
   "execution_count": 9,
   "id": "373e93a6",
   "metadata": {},
   "outputs": [
    {
     "data": {
      "image/png": "[encoded data removed]",
      "text/plain": [
       "<Figure size 432x288 with 1 Axes>"
      ]
     },
     "metadata": {
      "needs_background": "light"
     },
     "output_type": "display_data"
    }
   ],
   "source": [
    "fig = sm.graphics.influence_plot(res, criterion=\"cooks\")\n",
    "fig.tight_layout(pad=1.0)"
   ]
  },
  {
   "cell_type": "markdown",
   "id": "6e286aaf",
   "metadata": {},
   "source": [
    "#### Reference\n",
    "\n",
    " - https://online.stat.psu.edu/stat462/node/173/\n",
    " - https://blogs.sas.com/content/iml/2019/06/19/influence-regression-dffits-cooksd.html\n",
    " - https://www.kaggle.com/code/kmaingleung/use-cooks-disatnce-dffits-for-outlier-detection\n"
   ]
  },
  {
   "cell_type": "markdown",
   "id": "db5d1620",
   "metadata": {},
   "source": [
    "## Aspects inférentiels\n",
    "\n",
    "### Modèle de regression simple\n",
    "\n",
    "Soit ($X_i$, $y_i$), un **échantillon** de n individus issues de la population décrite par:\n",
    "$\n",
    "y_i = \\underbrace{Y / x_i}_{\\text{Loi Y conditionné à x_i (connu)}} = \\alpha x_i + \\beta + \\epsilon_i\n",
    "$\n",
    "\n",
    "α et β sont des constantes inconnues. On va construire deux estimateurs A et B à partir de l'échantillon. La solutions du système des équations normales donne les estimateurs des moindres carrés des paramètres α et β\n",
    "\n",
    "$\n",
    "A \\sim \\mathcal{N}(a, \\frac{\\sigma^2}{\\sum (x_i - \\overline{x})^2}) \\\\\n",
    "B \\sim \\mathcal{N}(b, \\sigma^2 \\left [ \\frac{1}{n} + \\frac{\\overline{x}}{\\sum (x_i - \\overline{x})^2} \\right ])\n",
    "$\n",
    "\n",
    "Estimateur sans biais de la variance des erreurs $\\sigma^2 = \\frac{1}{n-2} \\sum (\\hat{y}_i - y_i)^2$\n",
    "\n",
    "#### Hypothèses\n",
    "\n",
    " * $E(epsilon_i)=0$ : évite un biais systématique\n",
    " * $V(epsilon_i)=\\sigma^2$ : hypothèse d'homoscécadicité\n",
    " * $\\epsilon_i \\sim \\mathcal{N}(0, \\sigma^2)$: hypothèse de normalité des erreurs => $y_i \\sim \\mathcal{N}(\\alpha x_i + \\beta, \\sigma^2)$ \n",
    " * $\\epsilon_i$ identiques et indépendamment distribués (iid) <=> $\\forall i \\ne j, cov(\\epsilon_i, \\epsilon_j) = 0$\n",
    " "
   ]
  },
  {
   "cell_type": "code",
   "execution_count": 10,
   "id": "c3f4276b",
   "metadata": {},
   "outputs": [
    {
     "data": {
      "text/plain": [
       "(0.807233665122696, 0.0013110705955783326)"
      ]
     },
     "execution_count": 10,
     "metadata": {},
     "output_type": "execute_result"
    }
   ],
   "source": [
    "(a, np.var(residuals) / 48)"
   ]
  },
  {
   "cell_type": "code",
   "execution_count": 11,
   "id": "cc656920",
   "metadata": {},
   "outputs": [
    {
     "data": {
      "text/html": [
       "<table class=\"simpletable\">\n",
       "<caption>OLS Regression Results</caption>\n",
       "<tr>\n",
       "  <th>Dep. Variable:</th>      <td>sepal length</td>   <th>  R-squared (uncentered):</th>      <td>   0.995</td>\n",
       "</tr>\n",
       "<tr>\n",
       "  <th>Model:</th>                   <td>OLS</td>       <th>  Adj. R-squared (uncentered):</th> <td>   0.994</td>\n",
       "</tr>\n",
       "<tr>\n",
       "  <th>Method:</th>             <td>Least Squares</td>  <th>  F-statistic:       </th>          <td>   8892.</td>\n",
       "</tr>\n",
       "<tr>\n",
       "  <th>Date:</th>             <td>Thu, 22 Dec 2022</td> <th>  Prob (F-statistic):</th>          <td>4.54e-57</td>\n",
       "</tr>\n",
       "<tr>\n",
       "  <th>Time:</th>                 <td>11:17:31</td>     <th>  Log-Likelihood:    </th>          <td> -21.436</td>\n",
       "</tr>\n",
       "<tr>\n",
       "  <th>No. Observations:</th>      <td>    50</td>      <th>  AIC:               </th>          <td>   44.87</td>\n",
       "</tr>\n",
       "<tr>\n",
       "  <th>Df Residuals:</th>          <td>    49</td>      <th>  BIC:               </th>          <td>   46.79</td>\n",
       "</tr>\n",
       "<tr>\n",
       "  <th>Df Model:</th>              <td>     1</td>      <th>                     </th>              <td> </td>   \n",
       "</tr>\n",
       "<tr>\n",
       "  <th>Covariance Type:</th>      <td>nonrobust</td>    <th>                     </th>              <td> </td>   \n",
       "</tr>\n",
       "</table>\n",
       "<table class=\"simpletable\">\n",
       "<tr>\n",
       "       <td></td>          <th>coef</th>     <th>std err</th>      <th>t</th>      <th>P>|t|</th>  <th>[0.025</th>    <th>0.975]</th>  \n",
       "</tr>\n",
       "<tr>\n",
       "  <th>sepal width</th> <td>    1.4553</td> <td>    0.015</td> <td>   94.295</td> <td> 0.000</td> <td>    1.424</td> <td>    1.486</td>\n",
       "</tr>\n",
       "</table>\n",
       "<table class=\"simpletable\">\n",
       "<tr>\n",
       "  <th>Omnibus:</th>       <td> 1.351</td> <th>  Durbin-Watson:     </th> <td>   2.096</td>\n",
       "</tr>\n",
       "<tr>\n",
       "  <th>Prob(Omnibus):</th> <td> 0.509</td> <th>  Jarque-Bera (JB):  </th> <td>   0.599</td>\n",
       "</tr>\n",
       "<tr>\n",
       "  <th>Skew:</th>          <td> 0.131</td> <th>  Prob(JB):          </th> <td>   0.741</td>\n",
       "</tr>\n",
       "<tr>\n",
       "  <th>Kurtosis:</th>      <td> 3.468</td> <th>  Cond. No.          </th> <td>    1.00</td>\n",
       "</tr>\n",
       "</table><br/><br/>Notes:<br/>[1] R² is computed without centering (uncentered) since the model does not contain a constant.<br/>[2] Standard Errors assume that the covariance matrix of the errors is correctly specified."
      ],
      "text/plain": [
       "<class 'statsmodels.iolib.summary.Summary'>\n",
       "\"\"\"\n",
       "                                 OLS Regression Results                                \n",
       "=======================================================================================\n",
       "Dep. Variable:           sepal length   R-squared (uncentered):                   0.995\n",
       "Model:                            OLS   Adj. R-squared (uncentered):              0.994\n",
       "Method:                 Least Squares   F-statistic:                              8892.\n",
       "Date:                Thu, 22 Dec 2022   Prob (F-statistic):                    4.54e-57\n",
       "Time:                        11:17:31   Log-Likelihood:                         -21.436\n",
       "No. Observations:                  50   AIC:                                      44.87\n",
       "Df Residuals:                      49   BIC:                                      46.79\n",
       "Df Model:                           1                                                  \n",
       "Covariance Type:            nonrobust                                                  \n",
       "===============================================================================\n",
       "                  coef    std err          t      P>|t|      [0.025      0.975]\n",
       "-------------------------------------------------------------------------------\n",
       "sepal width     1.4553      0.015     94.295      0.000       1.424       1.486\n",
       "==============================================================================\n",
       "Omnibus:                        1.351   Durbin-Watson:                   2.096\n",
       "Prob(Omnibus):                  0.509   Jarque-Bera (JB):                0.599\n",
       "Skew:                           0.131   Prob(JB):                        0.741\n",
       "Kurtosis:                       3.468   Cond. No.                         1.00\n",
       "==============================================================================\n",
       "\n",
       "Notes:\n",
       "[1] R² is computed without centering (uncentered) since the model does not contain a constant.\n",
       "[2] Standard Errors assume that the covariance matrix of the errors is correctly specified.\n",
       "\"\"\""
      ]
     },
     "execution_count": 11,
     "metadata": {},
     "output_type": "execute_result"
    }
   ],
   "source": [
    "res.summary()"
   ]
  }
 ],
 "metadata": {
  "kernelspec": {
   "display_name": "Python 3 (ipykernel)",
   "language": "python",
   "name": "python3"
  },
  "language_info": {
   "codemirror_mode": {
    "name": "ipython",
    "version": 3
   },
   "file_extension": ".py",
   "mimetype": "text/x-python",
   "name": "python",
   "nbconvert_exporter": "python",
   "pygments_lexer": "ipython3",
   "version": "3.10.4"
  }
 },
 "nbformat": 4,
 "nbformat_minor": 5
}
