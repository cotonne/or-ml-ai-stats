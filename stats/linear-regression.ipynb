{
 "cells": [
  {
   "cell_type": "markdown",
   "id": "827fdcd0",
   "metadata": {},
   "source": [
    "# Linear Regression\n",
    "\n",
    "## Modèle explicatif\n",
    "\n",
    "On a observé deux ensembles de var X et Y sur n individus tel que $y = f(x) + \\epsilon$\n",
    "\n",
    "On suppose que $f$ est une fonction lineaire égale à: $f: x \\mapsto ax + b$\n",
    "\n",
    "### Différences avec l'ACP\n",
    "\n",
    "Dans une ACP, les variables n'ont pas de relation entre elles.\n",
    "Ici, y dépend de x.\n",
    "\n",
    "### Critère des moindres carrées\n",
    "\n",
    "Le résidu ($e_i = y_i - \\hat{y}_i$) correspond à ce qui n'est pas expliqué par le modèle. On cherche à le minimiser.\n",
    "\n",
    "On va chercher à a et b en minimisant le carré des résidus, c'est-à-dire:\n",
    "\n",
    "$\n",
    "\\min \\sum_i e^2_i = \\min \\sum_i (y_i - \\hat{y}_i)^2\n",
    "$\n",
    "\n",
    "La solution optimale donne:\n",
    "\n",
    "$\n",
    "b = \\frac {\\sum (x_i - \\overline{x})(y_i - \\overline{y})}{\\sum (x_i - \\overline{x})^2}\n",
    "b = \\frac {cov(x,y)}{var(x)}\n",
    "$\n",
    "\n",
    "$\n",
    "a = \\overline{y} - b \\overline{x}\n",
    "$"
   ]
  },
  {
   "cell_type": "code",
   "execution_count": 1,
   "id": "d1e978dc",
   "metadata": {},
   "outputs": [
    {
     "name": "stdout",
     "output_type": "stream",
     "text": [
      "iris.data\r\n"
     ]
    }
   ],
   "source": [
    "# Iris dataset\n",
    "!ls iris.data || wget https://archive.ics.uci.edu/ml/machine-learning-databases/iris/iris.data"
   ]
  },
  {
   "cell_type": "code",
   "execution_count": 2,
   "id": "04d4deae",
   "metadata": {},
   "outputs": [],
   "source": [
    "import matplotlib.pyplot as plt\n",
    "import pandas as pd\n",
    "import numpy as np\n",
    "from math import sqrt\n",
    "from sklearn import linear_model\n",
    "from scipy.stats import norm\n",
    "import statsmodels.api as sm\n",
    "import seaborn as sns\n",
    "import scipy.stats as stats"
   ]
  },
  {
   "cell_type": "code",
   "execution_count": 3,
   "id": "03d604ec",
   "metadata": {},
   "outputs": [
    {
     "data": {
      "text/html": [
       "<div>\n",
       "<style scoped>\n",
       "    .dataframe tbody tr th:only-of-type {\n",
       "        vertical-align: middle;\n",
       "    }\n",
       "\n",
       "    .dataframe tbody tr th {\n",
       "        vertical-align: top;\n",
       "    }\n",
       "\n",
       "    .dataframe thead th {\n",
       "        text-align: right;\n",
       "    }\n",
       "</style>\n",
       "<table border=\"1\" class=\"dataframe\">\n",
       "  <thead>\n",
       "    <tr style=\"text-align: right;\">\n",
       "      <th></th>\n",
       "      <th>sepal length</th>\n",
       "      <th>sepal width</th>\n",
       "      <th>petal length</th>\n",
       "      <th>petal width</th>\n",
       "    </tr>\n",
       "  </thead>\n",
       "  <tbody>\n",
       "    <tr>\n",
       "      <th>count</th>\n",
       "      <td>50.00000</td>\n",
       "      <td>50.000000</td>\n",
       "      <td>50.000000</td>\n",
       "      <td>50.00000</td>\n",
       "    </tr>\n",
       "    <tr>\n",
       "      <th>mean</th>\n",
       "      <td>5.00600</td>\n",
       "      <td>3.418000</td>\n",
       "      <td>1.464000</td>\n",
       "      <td>0.24400</td>\n",
       "    </tr>\n",
       "    <tr>\n",
       "      <th>std</th>\n",
       "      <td>0.35249</td>\n",
       "      <td>0.381024</td>\n",
       "      <td>0.173511</td>\n",
       "      <td>0.10721</td>\n",
       "    </tr>\n",
       "    <tr>\n",
       "      <th>min</th>\n",
       "      <td>4.30000</td>\n",
       "      <td>2.300000</td>\n",
       "      <td>1.000000</td>\n",
       "      <td>0.10000</td>\n",
       "    </tr>\n",
       "    <tr>\n",
       "      <th>25%</th>\n",
       "      <td>4.80000</td>\n",
       "      <td>3.125000</td>\n",
       "      <td>1.400000</td>\n",
       "      <td>0.20000</td>\n",
       "    </tr>\n",
       "    <tr>\n",
       "      <th>50%</th>\n",
       "      <td>5.00000</td>\n",
       "      <td>3.400000</td>\n",
       "      <td>1.500000</td>\n",
       "      <td>0.20000</td>\n",
       "    </tr>\n",
       "    <tr>\n",
       "      <th>75%</th>\n",
       "      <td>5.20000</td>\n",
       "      <td>3.675000</td>\n",
       "      <td>1.575000</td>\n",
       "      <td>0.30000</td>\n",
       "    </tr>\n",
       "    <tr>\n",
       "      <th>max</th>\n",
       "      <td>5.80000</td>\n",
       "      <td>4.400000</td>\n",
       "      <td>1.900000</td>\n",
       "      <td>0.60000</td>\n",
       "    </tr>\n",
       "  </tbody>\n",
       "</table>\n",
       "</div>"
      ],
      "text/plain": [
       "       sepal length  sepal width  petal length  petal width\n",
       "count      50.00000    50.000000     50.000000     50.00000\n",
       "mean        5.00600     3.418000      1.464000      0.24400\n",
       "std         0.35249     0.381024      0.173511      0.10721\n",
       "min         4.30000     2.300000      1.000000      0.10000\n",
       "25%         4.80000     3.125000      1.400000      0.20000\n",
       "50%         5.00000     3.400000      1.500000      0.20000\n",
       "75%         5.20000     3.675000      1.575000      0.30000\n",
       "max         5.80000     4.400000      1.900000      0.60000"
      ]
     },
     "execution_count": 3,
     "metadata": {},
     "output_type": "execute_result"
    }
   ],
   "source": [
    "df = pd.read_csv(\"iris.data\", header=None, names=[\"sepal length\", \"sepal width\", \"petal length\", \"petal width\", \"class\"])\n",
    "df = df[df[\"class\"] == \"Iris-setosa\"]\n",
    "df.describe()"
   ]
  },
  {
   "cell_type": "code",
   "execution_count": 4,
   "id": "79539f47",
   "metadata": {},
   "outputs": [
    {
     "data": {
      "text/plain": [
       "Text(0, 0.5, 'sepal width')"
      ]
     },
     "execution_count": 4,
     "metadata": {},
     "output_type": "execute_result"
    },
    {
     "data": {
      "image/png": "[encoded data removed]",
      "text/plain": [
       "<Figure size 432x288 with 1 Axes>"
      ]
     },
     "metadata": {
      "needs_background": "light"
     },
     "output_type": "display_data"
    }
   ],
   "source": [
    "X = df[\"sepal length\"]\n",
    "y = df[\"sepal width\"]\n",
    "plt.scatter(X, y)\n",
    "plt.xlabel(\"sepal length\")\n",
    "plt.ylabel(\"sepal width\")"
   ]
  },
  {
   "cell_type": "code",
   "execution_count": 5,
   "id": "2be41d06",
   "metadata": {},
   "outputs": [
    {
     "data": {
      "text/html": [
       "<div>\n",
       "<style scoped>\n",
       "    .dataframe tbody tr th:only-of-type {\n",
       "        vertical-align: middle;\n",
       "    }\n",
       "\n",
       "    .dataframe tbody tr th {\n",
       "        vertical-align: top;\n",
       "    }\n",
       "\n",
       "    .dataframe thead th {\n",
       "        text-align: right;\n",
       "    }\n",
       "</style>\n",
       "<table border=\"1\" class=\"dataframe\">\n",
       "  <thead>\n",
       "    <tr style=\"text-align: right;\">\n",
       "      <th></th>\n",
       "      <th>Method</th>\n",
       "      <th>Coeff</th>\n",
       "      <th>Intercept</th>\n",
       "    </tr>\n",
       "  </thead>\n",
       "  <tbody>\n",
       "    <tr>\n",
       "      <th>0</th>\n",
       "      <td>manually</td>\n",
       "      <td>0.807234</td>\n",
       "      <td>-0.623012</td>\n",
       "    </tr>\n",
       "    <tr>\n",
       "      <th>1</th>\n",
       "      <td>sk-learn</td>\n",
       "      <td>0.807234</td>\n",
       "      <td>-0.623012</td>\n",
       "    </tr>\n",
       "    <tr>\n",
       "      <th>2</th>\n",
       "      <td>statsmodels</td>\n",
       "      <td>0.807234</td>\n",
       "      <td>-0.623012</td>\n",
       "    </tr>\n",
       "  </tbody>\n",
       "</table>\n",
       "</div>"
      ],
      "text/plain": [
       "        Method     Coeff  Intercept\n",
       "0     manually  0.807234  -0.623012\n",
       "1     sk-learn  0.807234  -0.623012\n",
       "2  statsmodels  0.807234  -0.623012"
      ]
     },
     "execution_count": 5,
     "metadata": {},
     "output_type": "execute_result"
    }
   ],
   "source": [
    "X_ = np.average(X)\n",
    "y_ = np.average(y)\n",
    "cov_Xy = np.sum((X - X_) * (y - y_))\n",
    "var_x = np.sum((X - X_) ** 2)\n",
    "a = cov_Xy / var_x\n",
    "b = y_ - a * X_\n",
    "\n",
    "reg = linear_model.LinearRegression()\n",
    "reg.fit(X.to_numpy().reshape(1, -1).T, y)\n",
    "\n",
    "res = sm.OLS(y, sm.add_constant(X, prepend=False)).fit()\n",
    "\n",
    "pd.DataFrame([\n",
    "    [\"manually\", a, b],\n",
    "    [\"sk-learn\", reg.coef_[0], reg.intercept_],\n",
    "    [\"statsmodels\", res.params[0], res.params[1]]],\n",
    "    columns=[\"Method\", \"Coeff\", \"Intercept\"])"
   ]
  },
  {
   "cell_type": "code",
   "execution_count": 6,
   "id": "69ac2d4d",
   "metadata": {},
   "outputs": [
    {
     "data": {
      "text/plain": [
       "<matplotlib.collections.PathCollection at 0x7f6f418e3d90>"
      ]
     },
     "execution_count": 6,
     "metadata": {},
     "output_type": "execute_result"
    },
    {
     "data": {
      "image/png": "[encoded data removed]",
      "text/plain": [
       "<Figure size 288x288 with 1 Axes>"
      ]
     },
     "metadata": {
      "needs_background": "light"
     },
     "output_type": "display_data"
    }
   ],
   "source": [
    "fig, ax = plt.subplots(figsize=(4,4))\n",
    "ax.scatter(X, y)\n",
    "X_test = np.array([np.min(X), np.max(X)])\n",
    "y_test = a * X_test + b\n",
    "ax.plot(X_test, y_test, color=\"green\")\n",
    "ax.scatter(X_, y_, color=\"red\")"
   ]
  },
  {
   "cell_type": "markdown",
   "id": "0b0c481c",
   "metadata": {},
   "source": [
    "### Propriétés\n",
    "\n",
    " - La droite passe par ($\\overline{x}$, $\\overline{y}$)\n",
    " - $\\overline{y} = \\hat{\\overline{y}}$ (moyenne des y = moyenne des y prédits)\n",
    " - $\\sum e_i = 0$\n",
    " - $\\sum e_i x_i = 0$\n",
    " \n",
    "### Qualité de l'ajustement linéaire\n",
    "\n",
    "$\n",
    "\\underbrace{\\sum (y_i - \\overline{y})^2}_{\\text{Somme des carrés totaux}} = \\underbrace{\\sum (y_i - \\hat{y}_i)^2}_{\\text{Somme des carrés des résidus (SCR)/information non expliquée}} + \\underbrace{\\sum (\\hat{y}_i - \\overline{y})^2}_{\\text{Somme des carrés (SCE)/information expliquée par le modèle, par la droite}}\n",
    "$\n",
    "\n",
    "### Coefficient de détermination\n",
    "\n",
    "$\n",
    "R^2 = \\frac{SCE}{SCT} = \\frac {\\sum (\\hat{y}_i)^2 - \\overline{y})^2}{\\sum (y_i - \\overline{y})^2} = b^2 \\frac{s^2_x}{s^2_y} = (cor(x, y)) ^2\n",
    "$\n",
    "\n",
    "R² mesure l'ajustement de la droite aux données. R² explique la part de variation de y expliquée par la variation de x"
   ]
  },
  {
   "cell_type": "markdown",
   "id": "9d5490b3",
   "metadata": {},
   "source": [
    "## Etude des points influents et des résidus\n",
    "### Contribution de chaque observation\n",
    "\n",
    "**Levier** : Contribution d'un point à la construction de la droite\n",
    "$\n",
    "h_i = \\frac{1}{n} + \\frac{(x_i - \\overline{x})^2}{\\sum (x_j - \\overline{x})^2}\n",
    "$\n",
    "\n",
    "$h_i$ important is $\\gt \\frac {4}{n}$. Le levier indique une _potentielle_ influence par rapport à la pente. Pas d'influence => si on retire le point, elle n'impacte pas la droite\n",
    "\n",
    "Un point abberant (éloigné de la droite) mais pas influent (proche de la moyenne) aura un levier faible => influence sur la distance de Cook faible = levier faible * résidu important\n",
    "\n",
    " - Influence en général: **Distance de Cook** pour l'observation i = $D_i = \\frac {\\hat{y_j} - \\hat{y}_{(-i)j}} {2 \\hat{\\sigma}^2} = \\underbrace {\\frac{(e_i)^2}{\\hat{\\sigma}^2}}_{\\text{résidu studentisé, influence / y}} \\underbrace {\\frac {h_i} {(1-h_i)^2}}_{\\text{fonction du levier, influence / x}}$\n",
    " - Influence variabilité: **Cov Ratio**. Grand si |CovRatio - 1| >3 (P+1)/2\n",
    " - Influence prédiction: **DFFITS**. Grand si > 2 * sqrt(P+1) / n\n",
    " - Influence pente: **DFBETAS_x**. Grand si |DFBETAS| > 2 / sqrt(n)\n",
    " - Influence ordonnée à l'origine: **DFBETAS_intercept** "
   ]
  },
  {
   "cell_type": "code",
   "execution_count": 7,
   "id": "c81e7779",
   "metadata": {},
   "outputs": [
    {
     "name": "stderr",
     "output_type": "stream",
     "text": [
      "/home/yvan/.local/lib/python3.10/site-packages/seaborn/distributions.py:2619: FutureWarning: `distplot` is a deprecated function and will be removed in a future version. Please adapt your code to use either `displot` (a figure-level function with similar flexibility) or `histplot` (an axes-level function for histograms).\n",
      "  warnings.warn(msg, FutureWarning)\n"
     ]
    },
    {
     "data": {
      "image/png": "[encoded data removed]",
      "text/plain": [
       "<Figure size 432x288 with 4 Axes>"
      ]
     },
     "metadata": {
      "needs_background": "light"
     },
     "output_type": "display_data"
    }
   ],
   "source": [
    "ŷ = a * X + b\n",
    "residuals = (ŷ - y)\n",
    "fig, ax = plt.subplots(2, 2)\n",
    "ax[0, 0].scatter(range(len(residuals)), residuals)\n",
    "ax[0, 0].axhline(y = 0, color = 'r', linestyle = 'dashed')\n",
    "\n",
    "ax[1, 0].boxplot(residuals)\n",
    "\n",
    "_ = sns.distplot(residuals, ax=ax[0, 1])\n",
    "\n",
    "_ = sm.qqplot(residuals, stats.t, fit=True, line=\"45\", ax=ax[1, 1])"
   ]
  },
  {
   "cell_type": "markdown",
   "id": "df387e4f",
   "metadata": {},
   "source": [
    "Exemples de résidus ne respectant pas les hypothèses"
   ]
  },
  {
   "cell_type": "code",
   "execution_count": 8,
   "id": "7133bab0",
   "metadata": {},
   "outputs": [
    {
     "data": {
      "image/png": "[encoded data removed]",
      "text/plain": [
       "<Figure size 432x288 with 3 Axes>"
      ]
     },
     "metadata": {
      "needs_background": "light"
     },
     "output_type": "display_data"
    }
   ],
   "source": [
    "fig, ax = plt.subplots(1, 3)\n",
    "eX = np.array(range(30))\n",
    "e = [\n",
    "    [\"Relation non-linéaire entre x & y, envisager un modèle en x²\", eX**2],\n",
    "    [\"Hétéroscédasticité. Le résidu augmente en fonction de x. Envisager de régresser log Y en x\", eX+np.array([np.random.normal(loc=10*x, scale=1) for x in eX])],\n",
    "    [\"Autocorrelation, nécessite l'utilisation de séries chronologiques\", np.sin(eX/200)]\n",
    "]\n",
    "\n",
    "for i, values in enumerate(e):\n",
    "    text, ey = values\n",
    "    res_e = sm.OLS(ey, sm.add_constant(eX, prepend=False)).fit()\n",
    "    ax[i].scatter(eX, res_e.resid)"
   ]
  },
  {
   "cell_type": "code",
   "execution_count": 9,
   "id": "50310b7d",
   "metadata": {},
   "outputs": [
    {
     "data": {
      "text/html": [
       "<div>\n",
       "<style scoped>\n",
       "    .dataframe tbody tr th:only-of-type {\n",
       "        vertical-align: middle;\n",
       "    }\n",
       "\n",
       "    .dataframe tbody tr th {\n",
       "        vertical-align: top;\n",
       "    }\n",
       "\n",
       "    .dataframe thead th {\n",
       "        text-align: right;\n",
       "    }\n",
       "</style>\n",
       "<table border=\"1\" class=\"dataframe\">\n",
       "  <thead>\n",
       "    <tr style=\"text-align: right;\">\n",
       "      <th></th>\n",
       "      <th>StdDev Residual</th>\n",
       "      <th>Student Residual</th>\n",
       "      <th>Cook distance</th>\n",
       "      <th>Hat Diag H</th>\n",
       "      <th>Cov Ratio</th>\n",
       "      <th>Dffits</th>\n",
       "      <th>Dfbetas Coef</th>\n",
       "      <th>Dfbetas Intercept</th>\n",
       "    </tr>\n",
       "  </thead>\n",
       "  <tbody>\n",
       "    <tr>\n",
       "      <th>0</th>\n",
       "      <td>0.253273</td>\n",
       "      <td>0.024164</td>\n",
       "      <td>0.000006</td>\n",
       "      <td>0.021451</td>\n",
       "      <td>1.065844</td>\n",
       "      <td>0.003540</td>\n",
       "      <td>0.000921</td>\n",
       "      <td>-0.000681</td>\n",
       "    </tr>\n",
       "    <tr>\n",
       "      <th>1</th>\n",
       "      <td>0.253222</td>\n",
       "      <td>-1.312812</td>\n",
       "      <td>0.019246</td>\n",
       "      <td>0.021846</td>\n",
       "      <td>0.991102</td>\n",
       "      <td>-0.197719</td>\n",
       "      <td>0.057468</td>\n",
       "      <td>-0.070485</td>\n",
       "    </tr>\n",
       "    <tr>\n",
       "      <th>2</th>\n",
       "      <td>0.251464</td>\n",
       "      <td>0.115378</td>\n",
       "      <td>0.000244</td>\n",
       "      <td>0.035380</td>\n",
       "      <td>1.080661</td>\n",
       "      <td>0.021868</td>\n",
       "      <td>-0.014418</td>\n",
       "      <td>0.015527</td>\n",
       "    </tr>\n",
       "    <tr>\n",
       "      <th>3</th>\n",
       "      <td>0.249935</td>\n",
       "      <td>0.038958</td>\n",
       "      <td>0.000037</td>\n",
       "      <td>0.047075</td>\n",
       "      <td>1.094461</td>\n",
       "      <td>0.008568</td>\n",
       "      <td>-0.006498</td>\n",
       "      <td>0.006871</td>\n",
       "    </tr>\n",
       "    <tr>\n",
       "      <th>4</th>\n",
       "      <td>0.253460</td>\n",
       "      <td>0.737171</td>\n",
       "      <td>0.005547</td>\n",
       "      <td>0.020006</td>\n",
       "      <td>1.040336</td>\n",
       "      <td>0.104818</td>\n",
       "      <td>-0.001802</td>\n",
       "      <td>0.009085</td>\n",
       "    </tr>\n",
       "  </tbody>\n",
       "</table>\n",
       "</div>"
      ],
      "text/plain": [
       "   StdDev Residual  Student Residual  Cook distance  Hat Diag H  Cov Ratio  \\\n",
       "0         0.253273          0.024164       0.000006    0.021451   1.065844   \n",
       "1         0.253222         -1.312812       0.019246    0.021846   0.991102   \n",
       "2         0.251464          0.115378       0.000244    0.035380   1.080661   \n",
       "3         0.249935          0.038958       0.000037    0.047075   1.094461   \n",
       "4         0.253460          0.737171       0.005547    0.020006   1.040336   \n",
       "\n",
       "     Dffits  Dfbetas Coef  Dfbetas Intercept  \n",
       "0  0.003540      0.000921          -0.000681  \n",
       "1 -0.197719      0.057468          -0.070485  \n",
       "2  0.021868     -0.014418           0.015527  \n",
       "3  0.008568     -0.006498           0.006871  \n",
       "4  0.104818     -0.001802           0.009085  "
      ]
     },
     "execution_count": 9,
     "metadata": {},
     "output_type": "execute_result"
    }
   ],
   "source": [
    "infl = res.get_influence()\n",
    "iris_desc = pd.DataFrame(zip(\n",
    "    infl.resid_std,\n",
    "    infl.resid_studentized,\n",
    "    infl.cooks_distance[0],\n",
    "    infl.hat_matrix_diag,\n",
    "    infl.cov_ratio,\n",
    "    infl.dffits[0],\n",
    "    infl.dfbetas[:, 0],\n",
    "    infl.dfbetas[:, 1]), columns=[\n",
    "    \"StdDev Residual\",\n",
    "    \"Student Residual\",\n",
    "    \"Cook distance\",\n",
    "    \"Hat Diag H\",\n",
    "    \"Cov Ratio\",\n",
    "    \"Dffits\",\n",
    "    \"Dfbetas Coef\",\n",
    "    \"Dfbetas Intercept\",\n",
    "])\n",
    "iris_desc.head()"
   ]
  },
  {
   "cell_type": "code",
   "execution_count": 10,
   "id": "e9876060",
   "metadata": {},
   "outputs": [
    {
     "data": {
      "image/png": "[encoded data removed]",
      "text/plain": [
       "<Figure size 288x288 with 1 Axes>"
      ]
     },
     "metadata": {
      "needs_background": "light"
     },
     "output_type": "display_data"
    }
   ],
   "source": [
    "fig, ax = plt.subplots(figsize=(4,4))\n",
    "ax.scatter(X, y)\n",
    "X_test = np.array([np.min(X), np.max(X)])\n",
    "y_test = a * X_test + b\n",
    "y_sm = res.params[0] * X_test + res.params[1]\n",
    "ax.plot(X_test, y_test, color=\"green\")\n",
    "ax.plot(X_test, y_sm, color=\"purple\")\n",
    "ax.scatter(X_, y_, color=\"red\")\n",
    "\n",
    "points = [\n",
    "    (41, 'Influent\\nAberrant', 'left', 'bottom'),\n",
    "    (14, 'Influent\\nNon-aberrant', 'right', 'bottom'),\n",
    "    (25, 'Non influent\\nAberrant', 'left', 'top'),\n",
    "    # index_point == 32\n",
    "    (np.argmax(iris_desc[\"Cook distance\"]), '+ influent', 'right', 'bottom'),\n",
    "]\n",
    "\n",
    "for index_point, text, ha, va in points:\n",
    "    xp, yp = X[index_point], y[index_point]\n",
    "    ax.scatter(xp, yp, color=\"pink\")\n",
    "    ax.text(xp, yp, text, ha=ha, va=va)"
   ]
  },
  {
   "cell_type": "code",
   "execution_count": 11,
   "id": "373e93a6",
   "metadata": {},
   "outputs": [
    {
     "data": {
      "image/png": "[encoded data removed]",
      "text/plain": [
       "<Figure size 432x288 with 1 Axes>"
      ]
     },
     "metadata": {
      "needs_background": "light"
     },
     "output_type": "display_data"
    }
   ],
   "source": [
    "fig = sm.graphics.influence_plot(res, criterion=\"cooks\")\n",
    "fig.tight_layout(pad=1.0)"
   ]
  },
  {
   "cell_type": "markdown",
   "id": "6e286aaf",
   "metadata": {},
   "source": [
    "#### Reference\n",
    "\n",
    " - https://online.stat.psu.edu/stat462/node/173/\n",
    " - https://blogs.sas.com/content/iml/2019/06/19/influence-regression-dffits-cooksd.html\n",
    " - https://www.kaggle.com/code/kmaingleung/use-cooks-disatnce-dffits-for-outlier-detection\n"
   ]
  },
  {
   "cell_type": "markdown",
   "id": "db5d1620",
   "metadata": {},
   "source": [
    "## Aspects inférentiels\n",
    "\n",
    "### Modèle de regression simple\n",
    "\n",
    "Soit ($X_i$, $y_i$), un **échantillon** de n individus issues de la population décrite par:\n",
    "$\n",
    "y_i = \\underbrace{Y / x_i}_{\\text{Loi Y conditionné à x_i (connu)}} = \\alpha x_i + \\beta + \\epsilon_i\n",
    "$\n",
    "\n",
    "α et β sont des constantes inconnues.\n",
    "\n",
    "#### Hypothèses\n",
    "\n",
    " * $E(epsilon_i)=0$ : évite un biais systématique\n",
    " * $V(epsilon_i)=\\sigma^2$ : hypothèse d'homoscécadicité\n",
    " * $\\epsilon_i \\sim \\mathcal{N}(0, \\sigma^2)$: hypothèse de normalité des erreurs => $y_i \\sim \\mathcal{N}(\\alpha x_i + \\beta, \\sigma^2)$ \n",
    " * $\\epsilon_i$ identiques et indépendamment distribués (iid) <=> $\\forall i \\ne j, cov(\\epsilon_i, \\epsilon_j) = 0$\n",
    " \n",
    "#### Estimateurs et loi des estimateurs\n",
    "\n",
    "On va construire deux estimateurs A et B à partir de l'échantillon. La solutions du système des équations normales a et b donne les estimateurs des moindres carrés des paramètres α et β\n",
    "\n",
    "Les résidus $\\epsilon_i$ suivent une loi normale $\\mathcal{N}(0, \\sigma^2)$. Les estimateurs A et B des valeurs α et β suivent des lois normales.\n",
    "\n",
    "$\n",
    "A \\sim \\mathcal{N}(a, \\frac{\\sigma^2}{\\sum (x_i - \\overline{x})^2}) \\\\\n",
    "B \\sim \\mathcal{N}(b, \\sigma^2 \\left [ \\frac{1}{n} + \\frac{\\overline{x}}{\\sum (x_i - \\overline{x})^2} \\right ])\n",
    "$\n",
    "\n",
    "Mais, $\\sigma$, la variance des résidus, n'est pas **connu**. Il faut donc l'estimer! L'estimateur sans biais de la variance des erreurs  $\\sigma^2$ est: $S_{n-2}^2 = \\frac{1}{n-2} \\sum (\\hat{y}_i - y_i)^2$\n",
    "\n",
    "$\\frac{A - \\alpha}{S_{A}}$ et $\\frac{B - \\beta}{S_{B}}$ suivent des lois de Student avec n-2 degrés de liberté ($T_{n-2}$) \n",
    "\n",
    "Avec:\n",
    "$ \n",
    "S_A = S_{n-2} \\frac{1}{\\sqrt{\\sum (x_i - \\overline{x})^2}}\n",
    "\\ et\\ \n",
    "S_B = S_{n-2} \\sqrt{\\frac{1}{n} + \\frac{\\overline{x}^2}{\\sum (x_i - \\overline{x})^2}}\n",
    "$"
   ]
  },
  {
   "cell_type": "code",
   "execution_count": 12,
   "id": "c3f4276b",
   "metadata": {},
   "outputs": [
    {
     "data": {
      "text/plain": [
       "\"Estimation du coefficient et de l'ordonnée à l'origine = ((0.807233665122696, 0.10376564391116416), (-0.623011727604216, 0.5207112617925006))\""
      ]
     },
     "execution_count": 12,
     "metadata": {},
     "output_type": "execute_result"
    }
   ],
   "source": [
    "from math import sqrt\n",
    "n = len(residuals)\n",
    "𝜎_squared = sqrt(sum(residuals**2) / (n - 2))\n",
    "X_ = np.average(X)\n",
    "S_A = 𝜎_squared / sqrt((sum((X - X_) ** 2)))\n",
    "S_B = 𝜎_squared * sqrt((1/n) + (X_**2)/(sum((X - X_) ** 2)))\n",
    "f\"Estimation du coefficient et de l'ordonnée à l'origine = {((a, S_A), (b, S_B))}\""
   ]
  },
  {
   "cell_type": "markdown",
   "id": "3f8b90c9",
   "metadata": {},
   "source": [
    "### Intervalle de confiance\n",
    "\n",
    "$S_A = S_{n-2} \\frac{1}{\\sqrt{\\sum (x_i - \\overline{x})^2}}$ suit la loi de Student à n-2 degrés de liberté. On peut fournir un encadrement de la moyenne avec une confiance de $\\gamma$ = 5%\n",
    "\n",
    "$\n",
    "Pr[t_{n-2;\\gamma/2} \\le \\frac{A - \\alpha}{𝜎_A} \\le t_{n-2;1 - \\gamma/2}] = 1 - \\gamma\n",
    "$"
   ]
  },
  {
   "cell_type": "code",
   "execution_count": 13,
   "id": "38d0b39e",
   "metadata": {},
   "outputs": [
    {
     "data": {
      "text/plain": [
       "(0.5997023773003677, 1.0147649529450242)"
      ]
     },
     "execution_count": 13,
     "metadata": {},
     "output_type": "execute_result"
    }
   ],
   "source": [
    "t = 2\n",
    "(a - t * S_A, a+ t * S_A)"
   ]
  },
  {
   "cell_type": "markdown",
   "id": "3e7b23a2",
   "metadata": {},
   "source": [
    "###  Tests des hypothèses\n",
    "\n",
    " - **Tests des paramètres**: H0 = {la pente de la droite vaut zéro} contre H1 = {la pente de la droite est différente de zéro} (respectivement l'ordonnée à l'origine). Statistique de test: A/S_A ~ T_n-2.\n",
    " \n",
    " - **Test de la signification du modèle** (test si tous les coeffcients sont supposés nuls, sauf la constante) . Quand cette valeur est suffisamment grande, cela signifie que la variabilité expliquée est importante par rapport à la variabilité des résidus (rejet de H0). \n",
    " \n",
    "H0 = {$y_i = \\beta + \\epsilon_i$} vs H1 = {$y_i = \\beta + \\alpha x_i + \\epsilon_i$} \n",
    "\n",
    "$SCE \\sim \\chi^2_1$ et $SCR \\sim \\chi^2_{n-2}$.\n",
    "La Loi de Fisher étant défini comme le rapport de deux lois du χ2.\n",
    "\n",
    "Statistique de test: loi de Fisher\n",
    "$\n",
    "F = \\frac{SCE}{SCR/(n-2)} \\sim F_{1, n-2}\n",
    "$\n",
    "\n",
    "H0 est rejeté si $Pr[F_{1, n-2} > F_obs) < \\gamma$\n",
    "\n",
    " - **Statistique de Durbin-Watson**: doit être proche de 2 si l'hypothèse H0 \"non corrélation des résidus\" est vraie\n",
    " \n",
    "$D = \\frac{\\sum (e_{i+1} - e_i)^2}{\\sum e_i^2}$\n",
    "\n",
    "Autres: Test de Shapiro Wilks, de Kolmogorov-Smirnov\n",
    "\n",
    " - Le critère d’information d’Akaike (AIC) est défini par : AIC = −2 log eL + 2k où eL est la vraisemblance maximisée et k le nombre de paramètres dans le modèle. L’AIC représente donc un compromis entre le biais, diminuant avec le nombre de paramètres, et la parcimonie, volonté de décrire les données avec le plus petit nombre de paramètres possibles. Le meilleur modèle est celui possédant l’AIC le plus faible."
   ]
  },
  {
   "cell_type": "code",
   "execution_count": 14,
   "id": "72c4a518",
   "metadata": {},
   "outputs": [
    {
     "data": {
      "text/html": [
       "<table class=\"simpletable\">\n",
       "<caption>OLS Regression Results</caption>\n",
       "<tr>\n",
       "  <th>Dep. Variable:</th>       <td>sepal width</td>   <th>  R-squared:         </th> <td>   0.558</td>\n",
       "</tr>\n",
       "<tr>\n",
       "  <th>Model:</th>                   <td>OLS</td>       <th>  Adj. R-squared:    </th> <td>   0.548</td>\n",
       "</tr>\n",
       "<tr>\n",
       "  <th>Method:</th>             <td>Least Squares</td>  <th>  F-statistic:       </th> <td>   60.52</td>\n",
       "</tr>\n",
       "<tr>\n",
       "  <th>Date:</th>             <td>Sat, 24 Dec 2022</td> <th>  Prob (F-statistic):</th> <td>4.75e-10</td>\n",
       "</tr>\n",
       "<tr>\n",
       "  <th>Time:</th>                 <td>13:33:53</td>     <th>  Log-Likelihood:    </th> <td> -1.8042</td>\n",
       "</tr>\n",
       "<tr>\n",
       "  <th>No. Observations:</th>      <td>    50</td>      <th>  AIC:               </th> <td>   7.608</td>\n",
       "</tr>\n",
       "<tr>\n",
       "  <th>Df Residuals:</th>          <td>    48</td>      <th>  BIC:               </th> <td>   11.43</td>\n",
       "</tr>\n",
       "<tr>\n",
       "  <th>Df Model:</th>              <td>     1</td>      <th>                     </th>     <td> </td>   \n",
       "</tr>\n",
       "<tr>\n",
       "  <th>Covariance Type:</th>      <td>nonrobust</td>    <th>                     </th>     <td> </td>   \n",
       "</tr>\n",
       "</table>\n",
       "<table class=\"simpletable\">\n",
       "<tr>\n",
       "        <td></td>          <th>coef</th>     <th>std err</th>      <th>t</th>      <th>P>|t|</th>  <th>[0.025</th>    <th>0.975]</th>  \n",
       "</tr>\n",
       "<tr>\n",
       "  <th>sepal length</th> <td>    0.8072</td> <td>    0.104</td> <td>    7.779</td> <td> 0.000</td> <td>    0.599</td> <td>    1.016</td>\n",
       "</tr>\n",
       "<tr>\n",
       "  <th>const</th>        <td>   -0.6230</td> <td>    0.521</td> <td>   -1.196</td> <td> 0.237</td> <td>   -1.670</td> <td>    0.424</td>\n",
       "</tr>\n",
       "</table>\n",
       "<table class=\"simpletable\">\n",
       "<tr>\n",
       "  <th>Omnibus:</th>       <td> 0.350</td> <th>  Durbin-Watson:     </th> <td>   2.277</td>\n",
       "</tr>\n",
       "<tr>\n",
       "  <th>Prob(Omnibus):</th> <td> 0.839</td> <th>  Jarque-Bera (JB):  </th> <td>   0.120</td>\n",
       "</tr>\n",
       "<tr>\n",
       "  <th>Skew:</th>          <td>-0.120</td> <th>  Prob(JB):          </th> <td>   0.942</td>\n",
       "</tr>\n",
       "<tr>\n",
       "  <th>Kurtosis:</th>      <td> 3.018</td> <th>  Cond. No.          </th> <td>    75.0</td>\n",
       "</tr>\n",
       "</table><br/><br/>Notes:<br/>[1] Standard Errors assume that the covariance matrix of the errors is correctly specified."
      ],
      "text/plain": [
       "<class 'statsmodels.iolib.summary.Summary'>\n",
       "\"\"\"\n",
       "                            OLS Regression Results                            \n",
       "==============================================================================\n",
       "Dep. Variable:            sepal width   R-squared:                       0.558\n",
       "Model:                            OLS   Adj. R-squared:                  0.548\n",
       "Method:                 Least Squares   F-statistic:                     60.52\n",
       "Date:                Sat, 24 Dec 2022   Prob (F-statistic):           4.75e-10\n",
       "Time:                        13:33:53   Log-Likelihood:                -1.8042\n",
       "No. Observations:                  50   AIC:                             7.608\n",
       "Df Residuals:                      48   BIC:                             11.43\n",
       "Df Model:                           1                                         \n",
       "Covariance Type:            nonrobust                                         \n",
       "================================================================================\n",
       "                   coef    std err          t      P>|t|      [0.025      0.975]\n",
       "--------------------------------------------------------------------------------\n",
       "sepal length     0.8072      0.104      7.779      0.000       0.599       1.016\n",
       "const           -0.6230      0.521     -1.196      0.237      -1.670       0.424\n",
       "==============================================================================\n",
       "Omnibus:                        0.350   Durbin-Watson:                   2.277\n",
       "Prob(Omnibus):                  0.839   Jarque-Bera (JB):                0.120\n",
       "Skew:                          -0.120   Prob(JB):                        0.942\n",
       "Kurtosis:                       3.018   Cond. No.                         75.0\n",
       "==============================================================================\n",
       "\n",
       "Notes:\n",
       "[1] Standard Errors assume that the covariance matrix of the errors is correctly specified.\n",
       "\"\"\""
      ]
     },
     "execution_count": 14,
     "metadata": {},
     "output_type": "execute_result"
    }
   ],
   "source": [
    "res.summary()"
   ]
  }
 ],
 "metadata": {
  "kernelspec": {
   "display_name": "Python 3 (ipykernel)",
   "language": "python",
   "name": "python3"
  },
  "language_info": {
   "codemirror_mode": {
    "name": "ipython",
    "version": 3
   },
   "file_extension": ".py",
   "mimetype": "text/x-python",
   "name": "python",
   "nbconvert_exporter": "python",
   "pygments_lexer": "ipython3",
   "version": "3.10.4"
  }
 },
 "nbformat": 4,
 "nbformat_minor": 5
}
