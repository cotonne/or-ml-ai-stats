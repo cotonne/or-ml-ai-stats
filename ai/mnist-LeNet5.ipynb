{
 "cells": [
  {
   "cell_type": "markdown",
   "id": "5a7d45d7",
   "metadata": {},
   "source": [
    "# MNIST\n",
    "\n",
    "Ce notebook est une implémentation du modèle LeNet-5: http://yann.lecun.com/exdb/mnist/\n",
    "\n",
    "Il présente aussi des parties sur des exemples d'attaques du modèle et d'explicabilité des résultats (LIME)"
   ]
  },
  {
   "cell_type": "code",
   "execution_count": null,
   "id": "c6c0709c",
   "metadata": {},
   "outputs": [],
   "source": [
    "# Ref file format, ...: http://yann.lecun.com/exdb/mnist/\n",
    "# train-images-idx3-ubyte.gz:  training set images (9912422 bytes)\n",
    "! curl http://yann.lecun.com/exdb/mnist/train-images-idx3-ubyte.gz -o train-images-idx3-ubyte.gz\n",
    "# train-labels-idx1-ubyte.gz:  training set labels (28881 bytes)\n",
    "! curl http://yann.lecun.com/exdb/mnist/train-labels-idx1-ubyte.gz -o train-labels-idx1-ubyte.gz\n",
    "# t10k-images-idx3-ubyte.gz:   test set images (1648877 bytes)\n",
    "! curl http://yann.lecun.com/exdb/mnist/t10k-images-idx3-ubyte.gz -o t10k-images-idx3-ubyte.gz\n",
    "# t10k-labels-idx1-ubyte.gz:   test set labels (4542 bytes) \n",
    "! curl http://yann.lecun.com/exdb/mnist/t10k-labels-idx1-ubyte.gz -o t10k-labels-idx1-ubyte.gz"
   ]
  },
  {
   "cell_type": "code",
   "execution_count": null,
   "id": "74521d40",
   "metadata": {},
   "outputs": [],
   "source": [
    "! python -m gzip -d train-images-idx3-ubyte.gz\n",
    "! python -m gzip -d train-labels-idx1-ubyte.gz\n",
    "! python -m gzip -d t10k-images-idx3-ubyte.gz\n",
    "! python -m gzip -d t10k-labels-idx1-ubyte.gz"
   ]
  },
  {
   "cell_type": "code",
   "execution_count": null,
   "id": "982e18e6",
   "metadata": {},
   "outputs": [],
   "source": [
    "!pip install lime"
   ]
  },
  {
   "cell_type": "code",
   "execution_count": 1,
   "id": "41a6c48f",
   "metadata": {},
   "outputs": [],
   "source": [
    "import torch\n",
    "import torch.nn as nn\n",
    "import torch.nn.functional as F\n",
    "import numpy as np\n",
    "from array import array\n",
    "import matplotlib.pyplot as plt\n",
    "device = torch.device(\"cuda:0\" if torch.cuda.is_available() else \"cpu\")"
   ]
  },
  {
   "cell_type": "code",
   "execution_count": 2,
   "id": "be22bda2",
   "metadata": {},
   "outputs": [
    {
     "data": {
      "text/plain": [
       "<matplotlib.image.AxesImage at 0x1287e6170a0>"
      ]
     },
     "execution_count": 2,
     "metadata": {},
     "output_type": "execute_result"
    },
    {
     "data": {
      "image/png": "[encoded data removed]",
      "text/plain": [
       "<Figure size 640x480 with 1 Axes>"
      ]
     },
     "metadata": {},
     "output_type": "display_data"
    }
   ],
   "source": [
    "def read_images(filename):\n",
    "    with open(filename, \"rb\") as f_train_image:\n",
    "        train_image = f_train_image.read()\n",
    "\n",
    "    assert int.from_bytes(train_image[:4], byteorder=\"big\") == 2051, \"Invalid magic number for the TRAINING SET IMAGE FILE\"\n",
    "\n",
    "    img_width = 28\n",
    "    img_height = 28\n",
    "    img_size = img_width * img_height\n",
    "    img_offset = 16\n",
    "\n",
    "    number_of_examples = int.from_bytes(train_image[4:8], byteorder=\"big\")\n",
    "\n",
    "    def img_to_torch(i):\n",
    "        return torch.tensor(list(train_image[img_offset + i * img_size:img_offset + (i+1) * img_size]), dtype=torch.float)\\\n",
    "            .to(device)\\\n",
    "            .reshape(1, img_height, img_width)\n",
    "\n",
    "    inputs_set = [img_to_torch(i) for i in range(number_of_examples)]\n",
    "    return inputs_set\n",
    "\n",
    "inputs_set = read_images(\"train-images-idx3-ubyte\")\n",
    "t_inputs = torch.stack(inputs_set)\n",
    "img_index = 12\n",
    "plt.imshow(t_inputs[img_index, 0])"
   ]
  },
  {
   "cell_type": "code",
   "execution_count": 3,
   "id": "a86603d1",
   "metadata": {},
   "outputs": [
    {
     "data": {
      "text/plain": [
       "(tensor([0., 0., 0., 1., 0., 0., 0., 0., 0., 0.]), tensor(3))"
      ]
     },
     "execution_count": 3,
     "metadata": {},
     "output_type": "execute_result"
    }
   ],
   "source": [
    "def read_labels(filename):\n",
    "    with open(filename, \"rb\") as f_train_label:\n",
    "        train_label = f_train_label.read()\n",
    "\n",
    "    assert int.from_bytes(train_label[:4], byteorder=\"big\") == 2049, \"Invalid magic number for the TRAINING SET IMAGE FILE\"\n",
    "\n",
    "    label_offset = 0x08\n",
    "\n",
    "    t_labels = torch.tensor(list(train_label[label_offset:]))\n",
    "    labels_set=F.one_hot(t_labels).type(torch.float).to(device)\n",
    "    return t_labels, labels_set\n",
    "\n",
    "t_labels, labels_set = read_labels(\"train-labels-idx1-ubyte\")\n",
    "labels_set[img_index], torch.argmax(labels_set[img_index])"
   ]
  },
  {
   "cell_type": "code",
   "execution_count": 4,
   "id": "6e81db9b",
   "metadata": {},
   "outputs": [],
   "source": [
    "# http://cedric.cnam.fr/~thomen/cours/STA211/_images/LeNet5.png\n",
    "class LeNet5(nn.Module):\n",
    "    def __init__(self):\n",
    "        super().__init__()\n",
    "        self.C1 = nn.Conv2d(in_channels=1, out_channels=6, kernel_size=(5, 5), padding=2)\n",
    "        self.S2 = nn.MaxPool2d(kernel_size=(2, 2), stride=2)\n",
    "        self.C3 = nn.Conv2d(in_channels=6, out_channels=16, kernel_size=(5, 5), padding=0)\n",
    "        self.S4 = nn.MaxPool2d(kernel_size=(2, 2), stride=2)\n",
    "        self.C5 = nn.Conv2d(in_channels=16, out_channels=120, kernel_size=(5, 5), padding=0)\n",
    "        self.F6 = nn.Linear(120, 84)\n",
    "        self.F7 = nn.Linear(84, 10)\n",
    "\n",
    "    def forward(self, x):\n",
    "        x = self.S2(F.relu(self.C1(x)))\n",
    "        x = self.S4(F.relu(self.C3(x)))\n",
    "        x = torch.tanh(self.C5(x))\n",
    "        x = nn.Flatten()(x)\n",
    "        x = torch.sigmoid(self.F6(x))\n",
    "        x = F.softmax(self.F7(x), dim=1)\n",
    "        return x"
   ]
  },
  {
   "cell_type": "code",
   "execution_count": 5,
   "id": "1a3cfacd",
   "metadata": {},
   "outputs": [],
   "source": [
    "def accuracy(net, t_inputs, t_labels):\n",
    "    t_outputs = net(t_inputs)\n",
    "    t_outputs = torch.argmax(t_outputs, dim=1)\n",
    "    train_acc = torch.sum(t_outputs == t_labels)\n",
    "    return 100 * train_acc / t_outputs.shape[0]"
   ]
  },
  {
   "cell_type": "code",
   "execution_count": 6,
   "id": "2d5991d5",
   "metadata": {},
   "outputs": [
    {
     "name": "stderr",
     "output_type": "stream",
     "text": [
      "100%|██████████████████████████████████████████████████████████████████████████████████| 10/10 [02:21<00:00, 14.12s/it]"
     ]
    },
    {
     "name": "stdout",
     "output_type": "stream",
     "text": [
      "Training Done\n"
     ]
    },
    {
     "name": "stderr",
     "output_type": "stream",
     "text": [
      "\n"
     ]
    }
   ],
   "source": [
    "import torch.optim as optim\n",
    "from tqdm import tqdm\n",
    "\n",
    "trainset = list(zip(inputs_set, labels_set))\n",
    "\n",
    "net = LeNet5()\n",
    "net.train()\n",
    "\n",
    "criterion = nn.CrossEntropyLoss()\n",
    "optimizer = optim.SGD(net.parameters(), lr=0.001, momentum=0.9)\n",
    "\n",
    "batch_size = 32\n",
    "epoch_size = 10\n",
    "\n",
    "trainloader = torch.utils.data.DataLoader(trainset, batch_size=batch_size,\n",
    "                                          shuffle=True)\n",
    "losses = []\n",
    "accuracies = []\n",
    "for epoch in tqdm(range(epoch_size)):  # loop over the dataset multiple times\n",
    "\n",
    "    running_loss = 0.0\n",
    "    for i, data in enumerate(trainloader):\n",
    "        # get the inputs; data is a list of [inputs, labels]\n",
    "        inputs, labels = data\n",
    "        \n",
    "        # zero the parameter gradients\n",
    "        optimizer.zero_grad()\n",
    "\n",
    "        # forward + backward + optimize\n",
    "        outputs = net(inputs)\n",
    "        \n",
    "        loss = criterion(outputs, labels)\n",
    "        loss.backward()\n",
    "        optimizer.step()\n",
    "\n",
    "        # print statistics\n",
    "        losses.append(loss.item())\n",
    "    accuracies.append(accuracy(net, t_inputs, t_labels))\n",
    "print('Training Done')"
   ]
  },
  {
   "cell_type": "code",
   "execution_count": 7,
   "id": "d5baf556",
   "metadata": {},
   "outputs": [
    {
     "data": {
      "text/plain": [
       "[<matplotlib.lines.Line2D at 0x1287f1ea6a0>]"
      ]
     },
     "execution_count": 7,
     "metadata": {},
     "output_type": "execute_result"
    },
    {
     "data": {
      "image/png": "[encoded data removed]",
      "text/plain": [
       "<Figure size 640x480 with 1 Axes>"
      ]
     },
     "metadata": {},
     "output_type": "display_data"
    }
   ],
   "source": [
    "plt.plot(losses)"
   ]
  },
  {
   "cell_type": "code",
   "execution_count": 8,
   "id": "2c0cfc50",
   "metadata": {},
   "outputs": [
    {
     "data": {
      "image/png": "[encoded data removed]",
      "text/plain": [
       "<Figure size 640x480 with 1 Axes>"
      ]
     },
     "metadata": {},
     "output_type": "display_data"
    }
   ],
   "source": [
    "net.eval()\n",
    "with torch.no_grad():\n",
    "    plt.plot(accuracies)\n",
    "    accuracy(net, t_inputs, t_labels)"
   ]
  },
  {
   "cell_type": "code",
   "execution_count": 11,
   "id": "1b94ec59",
   "metadata": {},
   "outputs": [
    {
     "name": "stdout",
     "output_type": "stream",
     "text": [
      "tensor(88.8100)\n"
     ]
    }
   ],
   "source": [
    "test_inputs_set = read_images(\"t10k-images-idx3-ubyte\")\n",
    "test_inputs = torch.stack(test_inputs_set)\n",
    "test_labels, test_labels_set = read_labels(\"t10k-labels-idx1-ubyte\")\n",
    "with torch.no_grad():\n",
    "    print(accuracy(net, test_inputs, test_labels))"
   ]
  },
  {
   "cell_type": "markdown",
   "id": "fe8ba47b",
   "metadata": {},
   "source": [
    "# Attack on the model\n",
    "\n",
    "References:\n",
    " - [Adversarial Examples: Attacks and Defenses for Deep Learning](https://www.researchgate.net/publication/321860123_Adversarial_Examples_Attacks_and_Defenses_for_Deep_Learning)"
   ]
  },
  {
   "cell_type": "code",
   "execution_count": 12,
   "id": "a6edc633",
   "metadata": {},
   "outputs": [
    {
     "data": {
      "text/plain": [
       "(<matplotlib.image.AxesImage at 0x1287fd25400>, tensor(3), tensor(3))"
      ]
     },
     "execution_count": 12,
     "metadata": {},
     "output_type": "execute_result"
    },
    {
     "data": {
      "image/png": "[encoded data removed]",
      "text/plain": [
       "<Figure size 640x480 with 1 Axes>"
      ]
     },
     "metadata": {},
     "output_type": "display_data"
    }
   ],
   "source": [
    "current_img = 12\n",
    "with torch.no_grad():\n",
    "    y_hat = torch.argmax(net(t_inputs[current_img].unsqueeze(0)))\n",
    "plt.imshow(t_inputs[current_img,0].numpy()), t_labels[current_img], y_hat"
   ]
  },
  {
   "cell_type": "code",
   "execution_count": 13,
   "id": "a645ec4f",
   "metadata": {},
   "outputs": [
    {
     "data": {
      "text/plain": [
       "(<matplotlib.image.AxesImage at 0x12888a77550>, tensor(6), tensor(6))"
      ]
     },
     "execution_count": 13,
     "metadata": {},
     "output_type": "execute_result"
    },
    {
     "data": {
      "image/png": "[encoded data removed]",
      "text/plain": [
       "<Figure size 640x480 with 1 Axes>"
      ]
     },
     "metadata": {},
     "output_type": "display_data"
    }
   ],
   "source": [
    "delta_img = 13\n",
    "with torch.no_grad():\n",
    "    y_hat = torch.argmax(net(t_inputs[delta_img].unsqueeze(0)))\n",
    "plt.imshow(t_inputs[delta_img,0].numpy()), t_labels[delta_img], y_hat"
   ]
  },
  {
   "cell_type": "code",
   "execution_count": 14,
   "id": "a25206c4",
   "metadata": {},
   "outputs": [],
   "source": [
    "def attack(current_img):\n",
    "    x_delta = torch.tensor(test_inputs[current_img], requires_grad=True)\n",
    "    optimizer.zero_grad()\n",
    "    y = test_labels[current_img].unsqueeze(0)\n",
    "    y_hat = net(x_delta.unsqueeze(0))\n",
    "    loss = criterion(y_hat, y)\n",
    "    external_grad = torch.tensor(1.)\n",
    "    loss.backward(gradient=external_grad, retain_graph=True)\n",
    "    return (x_delta + 0.25 * torch.sign(x_delta.grad)).detach()"
   ]
  },
  {
   "cell_type": "code",
   "execution_count": 74,
   "id": "f19085c2",
   "metadata": {},
   "outputs": [
    {
     "name": "stderr",
     "output_type": "stream",
     "text": [
      "C:\\Users\\pfkc8924\\AppData\\Local\\Temp\\ipykernel_12052\\574776953.py:2: UserWarning: To copy construct from a tensor, it is recommended to use sourceTensor.clone().detach() or sourceTensor.clone().detach().requires_grad_(True), rather than torch.tensor(sourceTensor).\n",
      "  x_delta = torch.tensor(test_inputs[current_img], requires_grad=True)\n"
     ]
    },
    {
     "name": "stdout",
     "output_type": "stream",
     "text": [
      "Expected label for example 495: 8\n",
      "Predicted label for example 495: 8 (tensor([[2.3799e-01, 7.8156e-03, 7.1886e-02, 5.1320e-03, 1.0768e-02, 8.5157e-03,\n",
      "         3.1751e-01, 3.2802e-04, 3.3754e-01, 2.5124e-03]],\n",
      "       grad_fn=<SoftmaxBackward0>))\n",
      "Predicted label for perturbated example: 6 (tensor([[2.4147e-01, 7.6616e-03, 7.2178e-02, 5.3983e-03, 1.0005e-02, 8.3484e-03,\n",
      "         3.2741e-01, 3.1493e-04, 3.2490e-01, 2.3142e-03]],\n",
      "       grad_fn=<SoftmaxBackward0>))\n"
     ]
    },
    {
     "data": {
      "image/png": "[encoded data removed]",
      "text/plain": [
       "<Figure size 640x480 with 1 Axes>"
      ]
     },
     "metadata": {},
     "output_type": "display_data"
    }
   ],
   "source": [
    "initial_index = 0\n",
    "# initial_index = 708\n",
    "\n",
    "for i in range(initial_index, len(test_labels)):\n",
    "    x_origin = test_inputs[i]\n",
    "    y_softmax = net(x_origin.unsqueeze(0))\n",
    "    y = torch.argmax(y_softmax)\n",
    "    if y == test_labels[i]:\n",
    "        x_attack = attack(i)\n",
    "        y_hat_attack_softmax = net(x_attack.unsqueeze(0))\n",
    "        y_hat_attack = torch.argmax(y_hat_attack_softmax)\n",
    "        if y_hat_attack != y:\n",
    "            plt.imshow(x_attack[0].numpy())\n",
    "            print(f\"Expected label for example {i}: {test_labels[i]}\")\n",
    "            print(f\"Predicted label for example {i}: {y} ({y_softmax})\")\n",
    "            print(f\"Predicted label for perturbated example: {y_hat_attack} ({y_hat_attack_softmax})\")\n",
    "            break"
   ]
  },
  {
   "cell_type": "code",
   "execution_count": 75,
   "id": "5cd28f4f",
   "metadata": {},
   "outputs": [
    {
     "data": {
      "text/plain": [
       "(tensor(0.), tensor(0.2500), tensor(7.))"
      ]
     },
     "execution_count": 75,
     "metadata": {},
     "output_type": "execute_result"
    }
   ],
   "source": [
    "x_origin[0, 0, 0], x_attack[0, 0, 0], torch.linalg.norm(x_origin - x_attack)"
   ]
  },
  {
   "cell_type": "markdown",
   "id": "e6413257",
   "metadata": {},
   "source": [
    "# Explaining results\n",
    "\n",
    "Nous allons utiliser le [framework LIME (pour \"Local Interpretable Model-agnostic Explanations\")](https://github.com/marcotcr/lime) pour analyser les résultats obtenus.\n",
    "\n",
    "L'exemple est basé sur le [tutorial de LIME](https://github.com/marcotcr/lime/blob/master/doc/notebooks/Tutorial%20-%20images%20-%20Pytorch.ipynb)"
   ]
  },
  {
   "cell_type": "code",
   "execution_count": 76,
   "id": "a7a7524f",
   "metadata": {},
   "outputs": [],
   "source": [
    "from lime import lime_image\n",
    "from skimage.segmentation import mark_boundaries\n",
    "\n",
    "model = net\n",
    "\n",
    "def batch_predict(images):\n",
    "    model.eval()\n",
    "    batch = torch.stack([torch.from_numpy(i[:,:,0]).unsqueeze(0) for i in images], dim=0)\n",
    "    batch = batch.to(device)\n",
    "    \n",
    "    probs = model(batch)\n",
    "    # probs = torch.argmax(logits, dim=1)\n",
    "    \n",
    "    return probs.detach().cpu().numpy()\n",
    "\n",
    "\n",
    "\n",
    "explainer = lime_image.LimeImageExplainer()"
   ]
  },
  {
   "cell_type": "code",
   "execution_count": 100,
   "id": "703fd429",
   "metadata": {},
   "outputs": [
    {
     "data": {
      "application/vnd.jupyter.widget-view+json": {
       "model_id": "4d43e2055f9b4e888238425215138e8f",
       "version_major": 2,
       "version_minor": 0
      },
      "text/plain": [
       "  0%|          | 0/1000 [00:00<?, ?it/s]"
      ]
     },
     "metadata": {},
     "output_type": "display_data"
    },
    {
     "name": "stderr",
     "output_type": "stream",
     "text": [
      "Clipping input data to the valid range for imshow with RGB data ([0..1] for floats or [0..255] for integers).\n"
     ]
    },
    {
     "data": {
      "text/plain": [
       "<matplotlib.image.AxesImage at 0x1289ec4c760>"
      ]
     },
     "execution_count": 100,
     "metadata": {},
     "output_type": "execute_result"
    },
    {
     "data": {
      "image/png": "[encoded data removed]",
      "text/plain": [
       "<Figure size 640x480 with 1 Axes>"
      ]
     },
     "metadata": {},
     "output_type": "display_data"
    }
   ],
   "source": [
    "explanation = explainer.explain_instance(x_origin[0].numpy(), \n",
    "                                         batch_predict, # classification function\n",
    "                                         top_labels=5, \n",
    "                                         hide_color=0,\n",
    "                                         num_samples=1000)\n",
    "temp, mask = explanation.get_image_and_mask(explanation.top_labels[0],\n",
    "                                            positive_only=False,\n",
    "                                            num_features=10,\n",
    "                                            hide_rest=False)\n",
    "#img_boundry2 = mark_boundaries(temp/255.0, mask)\n",
    "plt.imshow(temp)"
   ]
  },
  {
   "cell_type": "code",
   "execution_count": 99,
   "id": "27b2f7aa",
   "metadata": {},
   "outputs": [
    {
     "data": {
      "application/vnd.jupyter.widget-view+json": {
       "model_id": "5458ca3647f04c0d8432366aeefaa3ec",
       "version_major": 2,
       "version_minor": 0
      },
      "text/plain": [
       "  0%|          | 0/1000 [00:00<?, ?it/s]"
      ]
     },
     "metadata": {},
     "output_type": "display_data"
    },
    {
     "name": "stderr",
     "output_type": "stream",
     "text": [
      "Clipping input data to the valid range for imshow with RGB data ([0..1] for floats or [0..255] for integers).\n"
     ]
    },
    {
     "data": {
      "text/plain": [
       "<matplotlib.image.AxesImage at 0x1289ebf2370>"
      ]
     },
     "execution_count": 99,
     "metadata": {},
     "output_type": "execute_result"
    },
    {
     "data": {
      "image/png": "[encoded data removed]",
      "text/plain": [
       "<Figure size 640x480 with 1 Axes>"
      ]
     },
     "metadata": {},
     "output_type": "display_data"
    }
   ],
   "source": [
    "explanation = explainer.explain_instance(x_attack[0].numpy(), \n",
    "                                         batch_predict, # classification function\n",
    "                                         top_labels=5, \n",
    "                                         hide_color=0, \n",
    "                                         num_samples=1000)\n",
    "temp, mask = explanation.get_image_and_mask(explanation.top_labels[0],\n",
    "                                            positive_only=False,\n",
    "                                            num_features=10,\n",
    "                                            hide_rest=False)\n",
    "img_boundry2 = mark_boundaries(temp/255.0, mask)\n",
    "plt.imshow(temp)"
   ]
  },
  {
   "cell_type": "code",
   "execution_count": 90,
   "id": "539f7a6e",
   "metadata": {},
   "outputs": [
    {
     "data": {
      "text/plain": [
       "<matplotlib.image.AxesImage at 0x1289e9e42e0>"
      ]
     },
     "execution_count": 90,
     "metadata": {},
     "output_type": "execute_result"
    },
    {
     "data": {
      "image/png": "[encoded data removed]",
      "text/plain": [
       "<Figure size 640x480 with 1 Axes>"
      ]
     },
     "metadata": {},
     "output_type": "display_data"
    }
   ],
   "source": [
    "plt.imshow((x_origin - x_attack)[0].numpy())"
   ]
  }
 ],
 "metadata": {
  "kernelspec": {
   "display_name": "Python 3 (ipykernel)",
   "language": "python",
   "name": "python3"
  },
  "language_info": {
   "codemirror_mode": {
    "name": "ipython",
    "version": 3
   },
   "file_extension": ".py",
   "mimetype": "text/x-python",
   "name": "python",
   "nbconvert_exporter": "python",
   "pygments_lexer": "ipython3",
   "version": "3.9.10"
  }
 },
 "nbformat": 4,
 "nbformat_minor": 5
}
