{
 "cells": [
  {
   "cell_type": "code",
   "execution_count": null,
   "id": "c6c0709c",
   "metadata": {},
   "outputs": [],
   "source": [
    "# Ref file format, ...: http://yann.lecun.com/exdb/mnist/\n",
    "# train-images-idx3-ubyte.gz:  training set images (9912422 bytes)\n",
    "! curl http://yann.lecun.com/exdb/mnist/train-images-idx3-ubyte.gz -o train-images-idx3-ubyte.gz\n",
    "# train-labels-idx1-ubyte.gz:  training set labels (28881 bytes)\n",
    "! curl http://yann.lecun.com/exdb/mnist/train-labels-idx1-ubyte.gz -o train-labels-idx1-ubyte.gz\n",
    "# t10k-images-idx3-ubyte.gz:   test set images (1648877 bytes)\n",
    "! curl http://yann.lecun.com/exdb/mnist/t10k-images-idx3-ubyte.gz -o t10k-images-idx3-ubyte.gz\n",
    "# t10k-labels-idx1-ubyte.gz:   test set labels (4542 bytes) \n",
    "! curl http://yann.lecun.com/exdb/mnist/t10k-labels-idx1-ubyte.gz -o t10k-labels-idx1-ubyte.gz"
   ]
  },
  {
   "cell_type": "code",
   "execution_count": null,
   "id": "74521d40",
   "metadata": {},
   "outputs": [],
   "source": [
    "! python -m gzip -d train-images-idx3-ubyte.gz\n",
    "! python -m gzip -d train-labels-idx1-ubyte.gz\n",
    "! python -m gzip -d t10k-images-idx3-ubyte.gz\n",
    "! python -m gzip -d t10k-labels-idx1-ubyte.gz"
   ]
  },
  {
   "cell_type": "code",
   "execution_count": null,
   "id": "41a6c48f",
   "metadata": {},
   "outputs": [],
   "source": [
    "import torch\n",
    "import torch.nn as nn\n",
    "import torch.nn.functional as F\n",
    "import numpy as np\n",
    "from array import array\n",
    "import matplotlib.pyplot as plt\n",
    "device = torch.device(\"cuda:0\" if torch.cuda.is_available() else \"cpu\")"
   ]
  },
  {
   "cell_type": "code",
   "execution_count": null,
   "id": "be22bda2",
   "metadata": {},
   "outputs": [],
   "source": [
    "def read_images(filename):\n",
    "    with open(filename, \"rb\") as f_train_image:\n",
    "        train_image = f_train_image.read()\n",
    "\n",
    "    assert int.from_bytes(train_image[:4], byteorder=\"big\") == 2051, \"Invalid magic number for the TRAINING SET IMAGE FILE\"\n",
    "\n",
    "    img_width = 28\n",
    "    img_height = 28\n",
    "    img_size = img_width * img_height\n",
    "    img_offset = 16\n",
    "\n",
    "    number_of_examples = int.from_bytes(train_image[4:8], byteorder=\"big\")\n",
    "\n",
    "    def img_to_torch(i):\n",
    "        return torch.tensor(list(train_image[img_offset + i * img_size:img_offset + (i+1) * img_size]), dtype=torch.float)\\\n",
    "            .to(device)\\\n",
    "            .reshape(1, img_height, img_width)\n",
    "\n",
    "    inputs_set = [img_to_torch(i) for i in range(number_of_examples)]\n",
    "    return inputs_set\n",
    "\n",
    "inputs_set = read_images(\"train-images-idx3-ubyte\")\n",
    "t_inputs = torch.stack(inputs_set)\n",
    "img_index = 12\n",
    "plt.imshow(t_inputs[img_index, 0])"
   ]
  },
  {
   "cell_type": "code",
   "execution_count": null,
   "id": "a86603d1",
   "metadata": {},
   "outputs": [],
   "source": [
    "def read_labels(filename):\n",
    "    with open(filename, \"rb\") as f_train_label:\n",
    "        train_label = f_train_label.read()\n",
    "\n",
    "    assert int.from_bytes(train_label[:4], byteorder=\"big\") == 2049, \"Invalid magic number for the TRAINING SET IMAGE FILE\"\n",
    "\n",
    "    label_offset = 0x08\n",
    "\n",
    "    t_labels = torch.tensor(list(train_label[label_offset:]))\n",
    "    labels_set=F.one_hot(t_labels).type(torch.float).to(device)\n",
    "    return t_labels, labels_set\n",
    "\n",
    "t_labels, labels_set = read_labels(\"train-labels-idx1-ubyte\")\n",
    "labels_set[img_index], torch.argmax(labels_set[img_index])"
   ]
  },
  {
   "cell_type": "code",
   "execution_count": null,
   "id": "6e81db9b",
   "metadata": {},
   "outputs": [],
   "source": [
    "# http://cedric.cnam.fr/~thomen/cours/STA211/_images/LeNet5.png\n",
    "class LeNet5(nn.Module):\n",
    "    def __init__(self):\n",
    "        super().__init__()\n",
    "        self.C1 = nn.Conv2d(in_channels=1, out_channels=6, kernel_size=(5, 5), padding=2)\n",
    "        self.S2 = nn.MaxPool2d(kernel_size=(2, 2), stride=2)\n",
    "        self.C3 = nn.Conv2d(in_channels=6, out_channels=16, kernel_size=(5, 5), padding=0)\n",
    "        self.S4 = nn.MaxPool2d(kernel_size=(2, 2), stride=2)\n",
    "        self.C5 = nn.Conv2d(in_channels=16, out_channels=120, kernel_size=(5, 5), padding=0)\n",
    "        self.F6 = nn.Linear(120, 84)\n",
    "        self.F7 = nn.Linear(84, 10)\n",
    "\n",
    "    def forward(self, x):\n",
    "        x = self.S2(F.relu(self.C1(x)))\n",
    "        x = self.S4(F.relu(self.C3(x)))\n",
    "        x = torch.tanh(self.C5(x))\n",
    "        x = nn.Flatten()(x)\n",
    "        x = torch.sigmoid(self.F6(x))\n",
    "        x = F.softmax(self.F7(x), dim=1)\n",
    "        return x"
   ]
  },
  {
   "cell_type": "code",
   "execution_count": null,
   "id": "1a3cfacd",
   "metadata": {},
   "outputs": [],
   "source": [
    "def accuracy(net, t_inputs, t_labels):\n",
    "    t_outputs = net(t_inputs)\n",
    "    t_outputs = torch.argmax(t_outputs, dim=1)\n",
    "    train_acc = torch.sum(t_outputs == t_labels)\n",
    "    return 100 * train_acc / t_outputs.shape[0]"
   ]
  },
  {
   "cell_type": "code",
   "execution_count": null,
   "id": "2d5991d5",
   "metadata": {},
   "outputs": [],
   "source": [
    "import torch.optim as optim\n",
    "from tqdm import tqdm\n",
    "\n",
    "trainset = list(zip(inputs_set, labels_set))\n",
    "\n",
    "net = LeNet5()\n",
    "net.train()\n",
    "\n",
    "criterion = nn.CrossEntropyLoss()\n",
    "optimizer = optim.SGD(net.parameters(), lr=0.001, momentum=0.9)\n",
    "\n",
    "batch_size = 32\n",
    "epoch_size = 10\n",
    "\n",
    "trainloader = torch.utils.data.DataLoader(trainset, batch_size=batch_size,\n",
    "                                          shuffle=True)\n",
    "losses = []\n",
    "accuracies = []\n",
    "for epoch in tqdm(range(epoch_size)):  # loop over the dataset multiple times\n",
    "\n",
    "    running_loss = 0.0\n",
    "    for i, data in enumerate(trainloader):\n",
    "        # get the inputs; data is a list of [inputs, labels]\n",
    "        inputs, labels = data\n",
    "        \n",
    "        # zero the parameter gradients\n",
    "        optimizer.zero_grad()\n",
    "\n",
    "        # forward + backward + optimize\n",
    "        outputs = net(inputs)\n",
    "        \n",
    "        loss = criterion(outputs, labels)\n",
    "        loss.backward()\n",
    "        optimizer.step()\n",
    "\n",
    "        # print statistics\n",
    "        losses.append(loss.item())\n",
    "    accuracies.append(accuracy(net, t_inputs, t_labels))\n",
    "print('Training Done')"
   ]
  },
  {
   "cell_type": "code",
   "execution_count": null,
   "id": "d5baf556",
   "metadata": {},
   "outputs": [],
   "source": [
    "plt.plot(losses)"
   ]
  },
  {
   "cell_type": "code",
   "execution_count": null,
   "id": "2c0cfc50",
   "metadata": {},
   "outputs": [],
   "source": [
    "net.eval()\n",
    "with torch.no_grad():\n",
    "    plt.plot(accuracies)\n",
    "    accuracy(net, t_inputs, t_labels)"
   ]
  },
  {
   "cell_type": "code",
   "execution_count": null,
   "id": "1b94ec59",
   "metadata": {},
   "outputs": [],
   "source": [
    "test_inputs_set = read_images(\"t10k-images-idx3-ubyte\")\n",
    "test_inputs = torch.stack(test_inputs_set)\n",
    "test_labels, test_labels_set = read_labels(\"t10k-labels-idx1-ubyte\")\n",
    "with torch.no_grad():\n",
    "    print(accuracy(net, test_inputs, test_labels))"
   ]
  },
  {
   "cell_type": "markdown",
   "id": "fe8ba47b",
   "metadata": {},
   "source": [
    "# Attack on the model\n",
    "\n",
    "References:\n",
    " - [Adversarial Examples: Attacks and Defenses for Deep Learning](https://www.researchgate.net/publication/321860123_Adversarial_Examples_Attacks_and_Defenses_for_Deep_Learning)"
   ]
  },
  {
   "cell_type": "code",
   "execution_count": null,
   "id": "a6edc633",
   "metadata": {},
   "outputs": [],
   "source": [
    "current_img = 12\n",
    "with torch.no_grad():\n",
    "    y_hat = torch.argmax(net(t_inputs[current_img].unsqueeze(0)))\n",
    "plt.imshow(t_inputs[current_img,0].numpy()), t_labels[current_img], y_hat"
   ]
  },
  {
   "cell_type": "code",
   "execution_count": null,
   "id": "a645ec4f",
   "metadata": {},
   "outputs": [],
   "source": [
    "delta_img = 13\n",
    "with torch.no_grad():\n",
    "    y_hat = torch.argmax(net(t_inputs[delta_img].unsqueeze(0)))\n",
    "plt.imshow(t_inputs[delta_img,0].numpy()), t_labels[delta_img], y_hat"
   ]
  },
  {
   "cell_type": "code",
   "execution_count": null,
   "id": "a25206c4",
   "metadata": {},
   "outputs": [],
   "source": [
    "def attack(current_img):\n",
    "    x_delta = torch.tensor(test_inputs[current_img], requires_grad=True)\n",
    "    optimizer.zero_grad()\n",
    "    y = test_labels[current_img].unsqueeze(0)\n",
    "    y_hat = net(x_delta.unsqueeze(0))\n",
    "    loss = criterion(y_hat, y)\n",
    "    external_grad = torch.tensor(1.)\n",
    "    loss.backward(gradient=external_grad, retain_graph=True)\n",
    "    return (x_delta + 0.25 * torch.sign(x_delta.grad)).detach()"
   ]
  },
  {
   "cell_type": "code",
   "execution_count": null,
   "id": "f19085c2",
   "metadata": {},
   "outputs": [],
   "source": [
    "for i in range(708, len(test_labels)):\n",
    "    x = test_inputs[i]\n",
    "    y_softmax = net(x.unsqueeze(0))\n",
    "    y = torch.argmax(y_softmax)\n",
    "    if y == test_labels[i]:\n",
    "        x_attack = attack(i)\n",
    "        y_hat_attack_softmax = net(x_attack.unsqueeze(0))\n",
    "        y_hat_attack = torch.argmax(y_hat_attack_softmax)\n",
    "        if y_hat_attack != y:\n",
    "            plt.imshow(x_attack[0].numpy())\n",
    "            print(i, test_labels[i])\n",
    "            print(y, y_softmax)\n",
    "            print(y_hat_attack, y_hat_attack_softmax)\n",
    "            break"
   ]
  },
  {
   "cell_type": "code",
   "execution_count": null,
   "id": "5cd28f4f",
   "metadata": {},
   "outputs": [],
   "source": [
    "x[0, 0, 0], x_delta.grad[0, 0, 0], x_attack[0, 0, 0], torch.linalg.norm(x - x_attack)"
   ]
  },
  {
   "cell_type": "code",
   "execution_count": null,
   "id": "66bd3c84",
   "metadata": {},
   "outputs": [],
   "source": []
  }
 ],
 "metadata": {
  "kernelspec": {
   "display_name": "Python 3 (ipykernel)",
   "language": "python",
   "name": "python3"
  },
  "language_info": {
   "codemirror_mode": {
    "name": "ipython",
    "version": 3
   },
   "file_extension": ".py",
   "mimetype": "text/x-python",
   "name": "python",
   "nbconvert_exporter": "python",
   "pygments_lexer": "ipython3",
   "version": "3.9.10"
  }
 },
 "nbformat": 4,
 "nbformat_minor": 5
}
